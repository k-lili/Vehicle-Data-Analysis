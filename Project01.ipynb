{
 "cells": [
  {
   "cell_type": "markdown",
   "id": "9e0d916c",
   "metadata": {},
   "source": [
    "# Project 1 (Group 7)"
   ]
  },
  {
   "cell_type": "markdown",
   "id": "4bd5296a",
   "metadata": {},
   "source": [
    "Members: <br>\n",
    "Feng Leung 300366142 <br>\n",
    "Karli Li 300350713<br>\n",
    "Tom Tsang 300363109<br>\n",
    "King Lok Wan 300360889<br>"
   ]
  },
  {
   "cell_type": "markdown",
   "id": "e7aafd64",
   "metadata": {},
   "source": [
    "# Part A"
   ]
  },
  {
   "cell_type": "markdown",
   "id": "f485f6c1",
   "metadata": {},
   "source": [
    "# 1. Import libraries"
   ]
  },
  {
   "cell_type": "code",
   "execution_count": 1,
   "id": "3b14965e",
   "metadata": {},
   "outputs": [],
   "source": [
    "import numpy as np\n",
    "import pandas as pd\n",
    "import matplotlib.pyplot as plt\n",
    "# So that the plot will be saved within the jupyter notebook\n",
    "%matplotlib inline \n"
   ]
  },
  {
   "cell_type": "markdown",
   "id": "29e0ca34",
   "metadata": {},
   "source": [
    "# 2. Import dataset"
   ]
  },
  {
   "cell_type": "code",
   "execution_count": 2,
   "id": "4d46fd8f",
   "metadata": {},
   "outputs": [
    {
     "name": "stdout",
     "output_type": "stream",
     "text": [
      "this dataset has 4006 columns and 11 rows\n"
     ]
    }
   ],
   "source": [
    "df = pd.read_csv('unclean_data.csv')\n",
    "print(\"this dataset has {} columns and {} rows\".format(*df.shape))"
   ]
  },
  {
   "cell_type": "markdown",
   "id": "186586a3",
   "metadata": {},
   "source": [
    "# 3. Data Cleaning"
   ]
  },
  {
   "cell_type": "code",
   "execution_count": 3,
   "id": "b81a5b99",
   "metadata": {
    "scrolled": true
   },
   "outputs": [
    {
     "data": {
      "text/plain": [
       "(3907, 11)"
      ]
     },
     "execution_count": 3,
     "metadata": {},
     "output_type": "execute_result"
    }
   ],
   "source": [
    "# 3.1 Handling missing rows\n",
    "df = df.dropna(axis=0, how=\"all\")\n",
    "df.reset_index(drop = True, inplace = True)\n",
    "df.shape"
   ]
  },
  {
   "cell_type": "code",
   "execution_count": 4,
   "id": "c2aeb0e7",
   "metadata": {},
   "outputs": [],
   "source": [
    "# 3.2 Handling the currency symbols and comma format\n",
    "\n",
    "df.price = df.price.str.replace('£','')\n",
    "df.price = df.price.str.replace(',','')"
   ]
  },
  {
   "cell_type": "code",
   "execution_count": 5,
   "id": "1da19abd",
   "metadata": {},
   "outputs": [],
   "source": [
    "#3.3 Handling non-valid column names\n",
    "df.rename(columns = {'fuel type':'fuel_type', \n",
    "                     'fuel type2':'fuel_type2', \n",
    "                     'engine size':'engine_size',\n",
    "                     'engine size2':'engine_size2'}, \n",
    "          inplace = True)"
   ]
  },
  {
   "cell_type": "code",
   "execution_count": 6,
   "id": "cecb8824",
   "metadata": {},
   "outputs": [],
   "source": [
    "# 3.4 Handling missing values in columns: fuel_type\n",
    "\n",
    "df.fuel_type2.fillna(df.fuel_type, inplace =  True)\n",
    "df.drop('fuel_type', axis = 1,inplace = True)\n",
    "df.rename(columns = {'fuel_type2':'fuel_type'}, inplace = True)"
   ]
  },
  {
   "cell_type": "code",
   "execution_count": 7,
   "id": "963d15a2",
   "metadata": {},
   "outputs": [],
   "source": [
    "# 3.5 Handling missing values and comma format in columns: mileage\n",
    "df.mileage.fillna(df.mileage2, inplace = True)\n",
    "df.drop('mileage2', axis = 1, inplace = True)\n"
   ]
  },
  {
   "cell_type": "code",
   "execution_count": 8,
   "id": "d6cce6e1",
   "metadata": {},
   "outputs": [],
   "source": [
    "#3.6 Handling missing values and different value standard in columns: engine_size\n",
    "df.engine_size2.fillna(df.engine_size, inplace = True)\n",
    "df.engine_size2 = pd.to_numeric(df['engine_size2'], errors = 'coerce')\n",
    "y = lambda x: round(x/1000,1) if x>1000 else round(x,1)\n",
    "df.engine_size2 = df.engine_size2.apply(y)\n",
    "df.drop('engine_size', axis = 1, inplace = True)\n",
    "df.rename({'engine_size2':'engine_size'}, axis = 1, inplace = True)\n"
   ]
  },
  {
   "cell_type": "code",
   "execution_count": 9,
   "id": "8fec17e6",
   "metadata": {},
   "outputs": [
    {
     "data": {
      "text/plain": [
       "0       2020\n",
       "1       2020\n",
       "2       2020\n",
       "3       2019\n",
       "4       2019\n",
       "        ... \n",
       "3902    2017\n",
       "3903    2018\n",
       "3904    2014\n",
       "3905    2014\n",
       "3906    2014\n",
       "Name: year, Length: 3902, dtype: int64"
      ]
     },
     "execution_count": 9,
     "metadata": {},
     "output_type": "execute_result"
    }
   ],
   "source": [
    "# 3.7 Handling wrong data type: year\n",
    "\n",
    "df.dropna(inplace = True)\n",
    "df.year.astype('int64')\n"
   ]
  },
  {
   "cell_type": "code",
   "execution_count": 10,
   "id": "b5e5b6e1",
   "metadata": {},
   "outputs": [],
   "source": [
    "# 3.8 Handling unneeded columns\n",
    "df.drop(columns = {'model', 'reference'}, inplace = True)"
   ]
  },
  {
   "cell_type": "code",
   "execution_count": 11,
   "id": "0035c980",
   "metadata": {},
   "outputs": [],
   "source": [
    "# 3.9 Handling categorical data\n",
    "tr = df.fuel_type\n",
    "tr = pd.get_dummies(df.transmission)\n",
    "tr.rename(columns = {'Other':'Other_Transmission' }, inplace = True)\n",
    "\n",
    "# Changing fuel_type: Other to fuel_type: Other_Fuel\n",
    "ft = df.fuel_type\n",
    "ft = pd.get_dummies(ft)\n",
    "ft.rename(columns = {'Other':'Other_Fuel' }, inplace = True)\n",
    "\n",
    "\n",
    "df = df.join(tr)\n",
    "df = df.join(ft)\n",
    "\n",
    "df.drop(columns={'transmission', 'fuel_type'}, inplace = True)\n",
    "\n"
   ]
  },
  {
   "cell_type": "code",
   "execution_count": 12,
   "id": "bb1c45db",
   "metadata": {},
   "outputs": [
    {
     "data": {
      "text/html": [
       "<div>\n",
       "<style scoped>\n",
       "    .dataframe tbody tr th:only-of-type {\n",
       "        vertical-align: middle;\n",
       "    }\n",
       "\n",
       "    .dataframe tbody tr th {\n",
       "        vertical-align: top;\n",
       "    }\n",
       "\n",
       "    .dataframe thead th {\n",
       "        text-align: right;\n",
       "    }\n",
       "</style>\n",
       "<table border=\"1\" class=\"dataframe\">\n",
       "  <thead>\n",
       "    <tr style=\"text-align: right;\">\n",
       "      <th></th>\n",
       "      <th>year</th>\n",
       "      <th>price</th>\n",
       "      <th>mileage</th>\n",
       "      <th>engine_size</th>\n",
       "      <th>Automatic</th>\n",
       "      <th>Manual</th>\n",
       "      <th>Other_Transmission</th>\n",
       "      <th>Semi-Auto</th>\n",
       "      <th>Diesel</th>\n",
       "      <th>Hybrid</th>\n",
       "      <th>Other_Fuel</th>\n",
       "      <th>Petrol</th>\n",
       "    </tr>\n",
       "  </thead>\n",
       "  <tbody>\n",
       "    <tr>\n",
       "      <th>0</th>\n",
       "      <td>2020.0</td>\n",
       "      <td>30495</td>\n",
       "      <td>1,200</td>\n",
       "      <td>2.0</td>\n",
       "      <td>1</td>\n",
       "      <td>0</td>\n",
       "      <td>0</td>\n",
       "      <td>0</td>\n",
       "      <td>1</td>\n",
       "      <td>0</td>\n",
       "      <td>0</td>\n",
       "      <td>0</td>\n",
       "    </tr>\n",
       "    <tr>\n",
       "      <th>1</th>\n",
       "      <td>2020.0</td>\n",
       "      <td>29989</td>\n",
       "      <td>1,000</td>\n",
       "      <td>1.5</td>\n",
       "      <td>1</td>\n",
       "      <td>0</td>\n",
       "      <td>0</td>\n",
       "      <td>0</td>\n",
       "      <td>0</td>\n",
       "      <td>0</td>\n",
       "      <td>0</td>\n",
       "      <td>1</td>\n",
       "    </tr>\n",
       "    <tr>\n",
       "      <th>2</th>\n",
       "      <td>2020.0</td>\n",
       "      <td>37899</td>\n",
       "      <td>500</td>\n",
       "      <td>2.0</td>\n",
       "      <td>1</td>\n",
       "      <td>0</td>\n",
       "      <td>0</td>\n",
       "      <td>0</td>\n",
       "      <td>1</td>\n",
       "      <td>0</td>\n",
       "      <td>0</td>\n",
       "      <td>0</td>\n",
       "    </tr>\n",
       "    <tr>\n",
       "      <th>3</th>\n",
       "      <td>2019.0</td>\n",
       "      <td>30399</td>\n",
       "      <td>5,000</td>\n",
       "      <td>2.0</td>\n",
       "      <td>1</td>\n",
       "      <td>0</td>\n",
       "      <td>0</td>\n",
       "      <td>0</td>\n",
       "      <td>1</td>\n",
       "      <td>0</td>\n",
       "      <td>0</td>\n",
       "      <td>0</td>\n",
       "    </tr>\n",
       "    <tr>\n",
       "      <th>4</th>\n",
       "      <td>2019.0</td>\n",
       "      <td>29899</td>\n",
       "      <td>4,500</td>\n",
       "      <td>2.0</td>\n",
       "      <td>1</td>\n",
       "      <td>0</td>\n",
       "      <td>0</td>\n",
       "      <td>0</td>\n",
       "      <td>1</td>\n",
       "      <td>0</td>\n",
       "      <td>0</td>\n",
       "      <td>0</td>\n",
       "    </tr>\n",
       "    <tr>\n",
       "      <th>...</th>\n",
       "      <td>...</td>\n",
       "      <td>...</td>\n",
       "      <td>...</td>\n",
       "      <td>...</td>\n",
       "      <td>...</td>\n",
       "      <td>...</td>\n",
       "      <td>...</td>\n",
       "      <td>...</td>\n",
       "      <td>...</td>\n",
       "      <td>...</td>\n",
       "      <td>...</td>\n",
       "      <td>...</td>\n",
       "    </tr>\n",
       "    <tr>\n",
       "      <th>3902</th>\n",
       "      <td>2017.0</td>\n",
       "      <td>14700</td>\n",
       "      <td>31,357</td>\n",
       "      <td>1.6</td>\n",
       "      <td>0</td>\n",
       "      <td>1</td>\n",
       "      <td>0</td>\n",
       "      <td>0</td>\n",
       "      <td>1</td>\n",
       "      <td>0</td>\n",
       "      <td>0</td>\n",
       "      <td>0</td>\n",
       "    </tr>\n",
       "    <tr>\n",
       "      <th>3903</th>\n",
       "      <td>2018.0</td>\n",
       "      <td>18500</td>\n",
       "      <td>28,248</td>\n",
       "      <td>2.1</td>\n",
       "      <td>1</td>\n",
       "      <td>0</td>\n",
       "      <td>0</td>\n",
       "      <td>0</td>\n",
       "      <td>1</td>\n",
       "      <td>0</td>\n",
       "      <td>0</td>\n",
       "      <td>0</td>\n",
       "    </tr>\n",
       "    <tr>\n",
       "      <th>3904</th>\n",
       "      <td>2014.0</td>\n",
       "      <td>11900</td>\n",
       "      <td>48,055</td>\n",
       "      <td>2.1</td>\n",
       "      <td>0</td>\n",
       "      <td>1</td>\n",
       "      <td>0</td>\n",
       "      <td>0</td>\n",
       "      <td>1</td>\n",
       "      <td>0</td>\n",
       "      <td>0</td>\n",
       "      <td>0</td>\n",
       "    </tr>\n",
       "    <tr>\n",
       "      <th>3905</th>\n",
       "      <td>2014.0</td>\n",
       "      <td>11300</td>\n",
       "      <td>49,865</td>\n",
       "      <td>2.1</td>\n",
       "      <td>1</td>\n",
       "      <td>0</td>\n",
       "      <td>0</td>\n",
       "      <td>0</td>\n",
       "      <td>1</td>\n",
       "      <td>0</td>\n",
       "      <td>0</td>\n",
       "      <td>0</td>\n",
       "    </tr>\n",
       "    <tr>\n",
       "      <th>3906</th>\n",
       "      <td>2014.0</td>\n",
       "      <td>14800</td>\n",
       "      <td>55,445</td>\n",
       "      <td>2.1</td>\n",
       "      <td>1</td>\n",
       "      <td>0</td>\n",
       "      <td>0</td>\n",
       "      <td>0</td>\n",
       "      <td>1</td>\n",
       "      <td>0</td>\n",
       "      <td>0</td>\n",
       "      <td>0</td>\n",
       "    </tr>\n",
       "  </tbody>\n",
       "</table>\n",
       "<p>3902 rows × 12 columns</p>\n",
       "</div>"
      ],
      "text/plain": [
       "        year   price mileage  engine_size  Automatic  Manual  \\\n",
       "0     2020.0   30495   1,200          2.0          1       0   \n",
       "1     2020.0   29989   1,000          1.5          1       0   \n",
       "2     2020.0   37899     500          2.0          1       0   \n",
       "3     2019.0   30399   5,000          2.0          1       0   \n",
       "4     2019.0   29899   4,500          2.0          1       0   \n",
       "...      ...     ...     ...          ...        ...     ...   \n",
       "3902  2017.0   14700  31,357          1.6          0       1   \n",
       "3903  2018.0   18500  28,248          2.1          1       0   \n",
       "3904  2014.0   11900  48,055          2.1          0       1   \n",
       "3905  2014.0   11300  49,865          2.1          1       0   \n",
       "3906  2014.0   14800  55,445          2.1          1       0   \n",
       "\n",
       "      Other_Transmission  Semi-Auto  Diesel  Hybrid  Other_Fuel  Petrol  \n",
       "0                      0          0       1       0           0       0  \n",
       "1                      0          0       0       0           0       1  \n",
       "2                      0          0       1       0           0       0  \n",
       "3                      0          0       1       0           0       0  \n",
       "4                      0          0       1       0           0       0  \n",
       "...                  ...        ...     ...     ...         ...     ...  \n",
       "3902                   0          0       1       0           0       0  \n",
       "3903                   0          0       1       0           0       0  \n",
       "3904                   0          0       1       0           0       0  \n",
       "3905                   0          0       1       0           0       0  \n",
       "3906                   0          0       1       0           0       0  \n",
       "\n",
       "[3902 rows x 12 columns]"
      ]
     },
     "execution_count": 12,
     "metadata": {},
     "output_type": "execute_result"
    }
   ],
   "source": [
    "df"
   ]
  },
  {
   "cell_type": "code",
   "execution_count": 13,
   "id": "cd65e23b",
   "metadata": {},
   "outputs": [],
   "source": [
    "# 3.10 Changing price and mileage to numeric \n",
    "df.mileage = df.mileage.apply(lambda x: x.replace(',', ''))\n",
    "df.price = df.price.apply(lambda x: x.replace(',', ''))\n",
    "\n",
    "\n",
    "df.mileage = pd.to_numeric(df.mileage, errors = 'coerce')\n",
    "df.price = pd.to_numeric(df.price, errors = 'coerce')\n",
    "\n"
   ]
  },
  {
   "cell_type": "code",
   "execution_count": 14,
   "id": "001f1fab",
   "metadata": {},
   "outputs": [
    {
     "name": "stdout",
     "output_type": "stream",
     "text": [
      "year                  False\n",
      "price                 False\n",
      "mileage                True\n",
      "engine_size           False\n",
      "Automatic             False\n",
      "Manual                False\n",
      "Other_Transmission    False\n",
      "Semi-Auto             False\n",
      "Diesel                False\n",
      "Hybrid                False\n",
      "Other_Fuel            False\n",
      "Petrol                False\n",
      "dtype: bool\n",
      "\n",
      "        year  price  mileage  engine_size  Automatic  Manual  \\\n",
      "3790  2020.0  39950      NaN          2.0          1       0   \n",
      "3822  2020.0  42890      NaN          2.0          1       0   \n",
      "3823  2020.0  36890      NaN          2.0          1       0   \n",
      "3843  2020.0  36890      NaN          2.0          1       0   \n",
      "\n",
      "      Other_Transmission  Semi-Auto  Diesel  Hybrid  Other_Fuel  Petrol  \n",
      "3790                   0          0       0       1           0       0  \n",
      "3822                   0          0       0       1           0       0  \n",
      "3823                   0          0       1       0           0       0  \n",
      "3843                   0          0       1       0           0       0  \n",
      "\n",
      "This dataset has 3898 columns and 12 rows\n"
     ]
    }
   ],
   "source": [
    "# 3.11 Final check of NA values and save the cleaned data into csv\n",
    "\n",
    "print(df.isnull().any(axis=0))\n",
    "print()\n",
    "print((df[df.mileage.isna()==True]))\n",
    "\n",
    "df.dropna(axis = 0, inplace = True)\n",
    "\n",
    "df.reset_index(drop = True, inplace = True)\n",
    "print()\n",
    "print(\"This dataset has {} columns and {} rows\".format(*df.shape))\n",
    "df.to_csv('cleaned_data.csv')"
   ]
  },
  {
   "cell_type": "markdown",
   "id": "097ed38b",
   "metadata": {},
   "source": [
    "# 4. Exploratory Data Analysis and Visualization"
   ]
  },
  {
   "cell_type": "markdown",
   "id": "17bed4c1",
   "metadata": {},
   "source": [
    "### 4.1 Is there any relationship between average age of car and the price?"
   ]
  },
  {
   "cell_type": "code",
   "execution_count": 15,
   "id": "ec7ac79f",
   "metadata": {},
   "outputs": [
    {
     "data": {
      "image/png": "[encoded data removed]",
      "text/plain": [
       "<Figure size 640x480 with 1 Axes>"
      ]
     },
     "metadata": {},
     "output_type": "display_data"
    }
   ],
   "source": [
    "# Relationship between age and price\n",
    "plt.scatter(df.year, df.price)\n",
    "plt.xlabel(\"Year\")\n",
    "plt.ylabel(\"Price\")\n",
    "plt.title(\"Price vs Year\")\n",
    "\n",
    "plt.show()"
   ]
  },
  {
   "cell_type": "markdown",
   "id": "85e9d377",
   "metadata": {},
   "source": [
    "### 4.2 Is there any relationship between engine size of car and the price?"
   ]
  },
  {
   "cell_type": "code",
   "execution_count": 16,
   "id": "f109e2a7",
   "metadata": {},
   "outputs": [
    {
     "data": {
      "image/png": "[encoded data removed]",
      "text/plain": [
       "<Figure size 640x480 with 1 Axes>"
      ]
     },
     "metadata": {},
     "output_type": "display_data"
    }
   ],
   "source": [
    "# Relationship between engine size and price\n",
    "plt.scatter(df.engine_size, df.price)\n",
    "plt.xlabel(\"Engine size (L)\")\n",
    "plt.ylabel(\"Price\")\n",
    "plt.title(\"Engine size vs Price\")\n",
    "\n",
    "plt.show()"
   ]
  },
  {
   "cell_type": "markdown",
   "id": "67f40843",
   "metadata": {},
   "source": [
    "## 4.3 Summary of Statistics and Visualize the data"
   ]
  },
  {
   "cell_type": "code",
   "execution_count": 17,
   "id": "0a8230ac",
   "metadata": {},
   "outputs": [
    {
     "name": "stdout",
     "output_type": "stream",
     "text": [
      "        year  price    price_mean\n",
      "0     2020.0  30495  36841.515873\n",
      "1     2020.0  29989  36841.515873\n",
      "2     2020.0  37899  36841.515873\n",
      "3     2019.0  30399  29393.384906\n",
      "4     2019.0  29899  29393.384906\n",
      "...      ...    ...           ...\n",
      "3893  2017.0  14700  21283.431579\n",
      "3894  2018.0  18500  23916.651934\n",
      "3895  2014.0  11900  14095.713235\n",
      "3896  2014.0  11300  14095.713235\n",
      "3897  2014.0  14800  14095.713235\n",
      "\n",
      "[3898 rows x 3 columns]\n",
      "\n",
      "        year  mileage  mileage_mean\n",
      "0     2020.0   1200.0   1973.500000\n",
      "1     2020.0   1000.0   1973.500000\n",
      "2     2020.0    500.0   1973.500000\n",
      "3     2019.0   5000.0   7013.601258\n",
      "4     2019.0   4500.0   7013.601258\n",
      "...      ...      ...           ...\n",
      "3893  2017.0  31357.0  27258.135338\n",
      "3894  2018.0  28248.0  15296.243094\n",
      "3895  2014.0  48055.0  47869.147059\n",
      "3896  2014.0  49865.0  47869.147059\n",
      "3897  2014.0  55445.0  47869.147059\n",
      "\n",
      "[3898 rows x 3 columns]\n"
     ]
    }
   ],
   "source": [
    "df1 = df.filter(['year','price'], axis=1)\n",
    "df1['price_mean'] = df1.groupby('year')['price'].transform('mean')\n",
    "#df1 = df1.groupby('year')\n",
    "print(df1)\n",
    "print()\n",
    "\n",
    "df2 = df.filter(['year','mileage'], axis=1)\n",
    "df2['mileage_mean'] = df2.groupby('year')['mileage'].transform('mean')\n",
    "print(df2)\n"
   ]
  },
  {
   "cell_type": "code",
   "execution_count": 18,
   "id": "cf289835",
   "metadata": {},
   "outputs": [
    {
     "data": {
      "image/png": "[encoded data removed]",
      "text/plain": [
       "<Figure size 1000x1000 with 6 Axes>"
      ]
     },
     "metadata": {},
     "output_type": "display_data"
    }
   ],
   "source": [
    "fig = plt.figure(figsize=(10,10))\n",
    "\n",
    "year_price = fig.add_subplot(321)\n",
    "year_mileage = fig.add_subplot(322)\n",
    "mileage_price = fig.add_subplot(323)\n",
    "vehicle_overview = fig.add_subplot(324)\n",
    "transmission = fig.add_subplot(325)\n",
    "fuel = fig.add_subplot(326)\n",
    "\n",
    "year_price.bar(df1['year'], df1['price_mean'])\n",
    "year_price.set_title('Year vs Price')\n",
    "year_price.set_xlabel('year')\n",
    "year_price.set_ylabel('price')\n",
    "\n",
    "year_mileage.bar(df2['year'], df2['mileage_mean'])\n",
    "year_mileage.set_title('Year vs Mileage')\n",
    "year_mileage.set_xlabel('year')\n",
    "year_mileage.set_ylabel('mileage')\n",
    "\n",
    "mileage_price.scatter(df['mileage'], df['price'])\n",
    "mileage_price.set_title('Mileage vs Price')\n",
    "mileage_price.set_xlabel('mileage')\n",
    "mileage_price.set_ylabel('price')\n",
    "\n",
    "#vehicle_overview.boxplot(df['year'], df['price'], df['mileage'], df['engine_size'])\n",
    "data = [df['year'], df['price'], df['mileage'], df['engine_size']]\n",
    "vehicle_overview.boxplot(data)\n",
    "vehicle_overview.set_title('Vehicles Overview')\n",
    "vehicle_overview.set_xticklabels(['year', 'price','mileage', 'engine_size'])\n",
    "\n",
    "automatic = df['Automatic'].sum()\n",
    "manual = df['Manual'].sum()\n",
    "semi_auto = df['Semi-Auto'].sum()\n",
    "other_transmission = df['Other_Transmission'].sum()\n",
    "\n",
    "transmission_data = [automatic, manual, semi_auto, other_transmission]\n",
    "transmission_width = ['Automatic','Manual','Semi-Auto','Other_Transmission']\n",
    "transmission.bar(transmission_width, transmission_data)\n",
    "transmission.set_title('Transmission Count')\n",
    "\n",
    "diesel = df['Diesel'].sum()\n",
    "hybrid = df['Hybrid'].sum()\n",
    "petrol = df['Petrol'].sum()\n",
    "other_fuel = df['Other_Fuel'].sum()\n",
    "\n",
    "fuel_data = [diesel, hybrid, petrol,other_fuel]\n",
    "fuel_width = ['Diesel','Hybrid','Petrol','Other_Fuel']\n",
    "fuel.bar(fuel_width, fuel_data)\n",
    "fuel.set_title('Fuel Count')\n",
    "\n",
    "plt.subplots_adjust(wspace=0.5,hspace=0.5)\n",
    "plt.show()"
   ]
  },
  {
   "cell_type": "markdown",
   "id": "48818fe3",
   "metadata": {},
   "source": [
    "# 5. Feature Observation and Hypothesis"
   ]
  },
  {
   "cell_type": "code",
   "execution_count": 19,
   "id": "971389ea",
   "metadata": {
    "scrolled": true
   },
   "outputs": [
    {
     "data": {
      "text/html": [
       "<div>\n",
       "<style scoped>\n",
       "    .dataframe tbody tr th:only-of-type {\n",
       "        vertical-align: middle;\n",
       "    }\n",
       "\n",
       "    .dataframe tbody tr th {\n",
       "        vertical-align: top;\n",
       "    }\n",
       "\n",
       "    .dataframe thead th {\n",
       "        text-align: right;\n",
       "    }\n",
       "</style>\n",
       "<table border=\"1\" class=\"dataframe\">\n",
       "  <thead>\n",
       "    <tr style=\"text-align: right;\">\n",
       "      <th></th>\n",
       "      <th>year</th>\n",
       "      <th>price</th>\n",
       "      <th>mileage</th>\n",
       "      <th>engine_size</th>\n",
       "      <th>Automatic</th>\n",
       "      <th>Manual</th>\n",
       "      <th>Other_Transmission</th>\n",
       "      <th>Semi-Auto</th>\n",
       "      <th>Diesel</th>\n",
       "      <th>Hybrid</th>\n",
       "      <th>Other_Fuel</th>\n",
       "      <th>Petrol</th>\n",
       "    </tr>\n",
       "  </thead>\n",
       "  <tbody>\n",
       "    <tr>\n",
       "      <th>count</th>\n",
       "      <td>3898.000000</td>\n",
       "      <td>3898.000000</td>\n",
       "      <td>3898.000000</td>\n",
       "      <td>3898.000000</td>\n",
       "      <td>3898.000000</td>\n",
       "      <td>3898.000000</td>\n",
       "      <td>3898.000000</td>\n",
       "      <td>3898.000000</td>\n",
       "      <td>3898.000000</td>\n",
       "      <td>3898.000000</td>\n",
       "      <td>3898.000000</td>\n",
       "      <td>3898.000000</td>\n",
       "    </tr>\n",
       "    <tr>\n",
       "      <th>mean</th>\n",
       "      <td>2017.341714</td>\n",
       "      <td>23679.720369</td>\n",
       "      <td>22373.116727</td>\n",
       "      <td>2.036762</td>\n",
       "      <td>0.417394</td>\n",
       "      <td>0.051052</td>\n",
       "      <td>0.000257</td>\n",
       "      <td>0.531298</td>\n",
       "      <td>0.600051</td>\n",
       "      <td>0.038738</td>\n",
       "      <td>0.001539</td>\n",
       "      <td>0.359672</td>\n",
       "    </tr>\n",
       "    <tr>\n",
       "      <th>std</th>\n",
       "      <td>2.204856</td>\n",
       "      <td>8954.941562</td>\n",
       "      <td>22589.323398</td>\n",
       "      <td>0.487930</td>\n",
       "      <td>0.493192</td>\n",
       "      <td>0.220132</td>\n",
       "      <td>0.016017</td>\n",
       "      <td>0.499083</td>\n",
       "      <td>0.489950</td>\n",
       "      <td>0.192994</td>\n",
       "      <td>0.039208</td>\n",
       "      <td>0.479966</td>\n",
       "    </tr>\n",
       "    <tr>\n",
       "      <th>min</th>\n",
       "      <td>1991.000000</td>\n",
       "      <td>1290.000000</td>\n",
       "      <td>1.000000</td>\n",
       "      <td>0.000000</td>\n",
       "      <td>0.000000</td>\n",
       "      <td>0.000000</td>\n",
       "      <td>0.000000</td>\n",
       "      <td>0.000000</td>\n",
       "      <td>0.000000</td>\n",
       "      <td>0.000000</td>\n",
       "      <td>0.000000</td>\n",
       "      <td>0.000000</td>\n",
       "    </tr>\n",
       "    <tr>\n",
       "      <th>25%</th>\n",
       "      <td>2016.000000</td>\n",
       "      <td>17691.250000</td>\n",
       "      <td>6000.000000</td>\n",
       "      <td>2.000000</td>\n",
       "      <td>0.000000</td>\n",
       "      <td>0.000000</td>\n",
       "      <td>0.000000</td>\n",
       "      <td>0.000000</td>\n",
       "      <td>0.000000</td>\n",
       "      <td>0.000000</td>\n",
       "      <td>0.000000</td>\n",
       "      <td>0.000000</td>\n",
       "    </tr>\n",
       "    <tr>\n",
       "      <th>50%</th>\n",
       "      <td>2018.000000</td>\n",
       "      <td>22980.000000</td>\n",
       "      <td>14638.000000</td>\n",
       "      <td>2.000000</td>\n",
       "      <td>0.000000</td>\n",
       "      <td>0.000000</td>\n",
       "      <td>0.000000</td>\n",
       "      <td>1.000000</td>\n",
       "      <td>1.000000</td>\n",
       "      <td>0.000000</td>\n",
       "      <td>0.000000</td>\n",
       "      <td>0.000000</td>\n",
       "    </tr>\n",
       "    <tr>\n",
       "      <th>75%</th>\n",
       "      <td>2019.000000</td>\n",
       "      <td>28900.000000</td>\n",
       "      <td>32440.000000</td>\n",
       "      <td>2.100000</td>\n",
       "      <td>1.000000</td>\n",
       "      <td>0.000000</td>\n",
       "      <td>0.000000</td>\n",
       "      <td>1.000000</td>\n",
       "      <td>1.000000</td>\n",
       "      <td>0.000000</td>\n",
       "      <td>0.000000</td>\n",
       "      <td>1.000000</td>\n",
       "    </tr>\n",
       "    <tr>\n",
       "      <th>max</th>\n",
       "      <td>2020.000000</td>\n",
       "      <td>88995.000000</td>\n",
       "      <td>173000.000000</td>\n",
       "      <td>6.200000</td>\n",
       "      <td>1.000000</td>\n",
       "      <td>1.000000</td>\n",
       "      <td>1.000000</td>\n",
       "      <td>1.000000</td>\n",
       "      <td>1.000000</td>\n",
       "      <td>1.000000</td>\n",
       "      <td>1.000000</td>\n",
       "      <td>1.000000</td>\n",
       "    </tr>\n",
       "  </tbody>\n",
       "</table>\n",
       "</div>"
      ],
      "text/plain": [
       "              year         price        mileage  engine_size    Automatic  \\\n",
       "count  3898.000000   3898.000000    3898.000000  3898.000000  3898.000000   \n",
       "mean   2017.341714  23679.720369   22373.116727     2.036762     0.417394   \n",
       "std       2.204856   8954.941562   22589.323398     0.487930     0.493192   \n",
       "min    1991.000000   1290.000000       1.000000     0.000000     0.000000   \n",
       "25%    2016.000000  17691.250000    6000.000000     2.000000     0.000000   \n",
       "50%    2018.000000  22980.000000   14638.000000     2.000000     0.000000   \n",
       "75%    2019.000000  28900.000000   32440.000000     2.100000     1.000000   \n",
       "max    2020.000000  88995.000000  173000.000000     6.200000     1.000000   \n",
       "\n",
       "            Manual  Other_Transmission    Semi-Auto       Diesel       Hybrid  \\\n",
       "count  3898.000000         3898.000000  3898.000000  3898.000000  3898.000000   \n",
       "mean      0.051052            0.000257     0.531298     0.600051     0.038738   \n",
       "std       0.220132            0.016017     0.499083     0.489950     0.192994   \n",
       "min       0.000000            0.000000     0.000000     0.000000     0.000000   \n",
       "25%       0.000000            0.000000     0.000000     0.000000     0.000000   \n",
       "50%       0.000000            0.000000     1.000000     1.000000     0.000000   \n",
       "75%       0.000000            0.000000     1.000000     1.000000     0.000000   \n",
       "max       1.000000            1.000000     1.000000     1.000000     1.000000   \n",
       "\n",
       "        Other_Fuel       Petrol  \n",
       "count  3898.000000  3898.000000  \n",
       "mean      0.001539     0.359672  \n",
       "std       0.039208     0.479966  \n",
       "min       0.000000     0.000000  \n",
       "25%       0.000000     0.000000  \n",
       "50%       0.000000     0.000000  \n",
       "75%       0.000000     1.000000  \n",
       "max       1.000000     1.000000  "
      ]
     },
     "execution_count": 19,
     "metadata": {},
     "output_type": "execute_result"
    }
   ],
   "source": [
    "df.describe()"
   ]
  },
  {
   "cell_type": "code",
   "execution_count": 20,
   "id": "59d48a2e",
   "metadata": {},
   "outputs": [
    {
     "data": {
      "image/png": "[encoded data removed]",
      "text/plain": [
       "<Figure size 640x480 with 2 Axes>"
      ]
     },
     "metadata": {},
     "output_type": "display_data"
    }
   ],
   "source": [
    "# Calculate and show correlation matrix\n",
    "#df.values.T = convert Dataframe to NP 2d array\n",
    "import seaborn as sns \n",
    "df.corr()\n",
    "cm = np.corrcoef(df.values.T)\n",
    "sns.set(font_scale = .8)\n",
    "hm = sns.heatmap(cm,\n",
    "                cbar = True,\n",
    "                annot= True,\n",
    "                square = True,\n",
    "                fmt = '.2f',\n",
    "                yticklabels = df.columns,\n",
    "                xticklabels = df.columns)"
   ]
  },
  {
   "cell_type": "markdown",
   "id": "aa346012",
   "metadata": {},
   "source": [
    "## 5.1 Assuming price outside +-3SD as outliers \n",
    "### (For reference only, did not use in this submission)"
   ]
  },
  {
   "cell_type": "code",
   "execution_count": 21,
   "id": "1ba40f8f",
   "metadata": {
    "scrolled": true
   },
   "outputs": [],
   "source": [
    "#Remove data which price outside +-3SD\n",
    "outlier_upper = df.loc[df.price > df.price.mean() + 3*df.price.std()].index\n",
    "outlier_lower = df.loc[df.price < df.price.mean() - 3*df.price.std()].index\n",
    "\n",
    "outlier_index = outlier_upper.join(outlier_lower)\n",
    "\n",
    "# To save as a copy only\n",
    "df2 = df.drop(outlier_index, axis = 0)\n"
   ]
  },
  {
   "cell_type": "code",
   "execution_count": 22,
   "id": "28483a23",
   "metadata": {},
   "outputs": [
    {
     "name": "stdout",
     "output_type": "stream",
     "text": [
      "There are 46 number of records where price exceed 3 standard deviations,\n",
      "consist of 1.18% of the total number of records\n"
     ]
    }
   ],
   "source": [
    "# Summary of outliers\n",
    "print(\"There are {} number of records where price exceed 3 standard deviations,\\\n",
    "\\nconsist of {}% of the total number of records\".format(len(outlier_index), round(100*len(outlier_index)/len(df),3)))"
   ]
  },
  {
   "cell_type": "markdown",
   "id": "72f4fe97",
   "metadata": {},
   "source": [
    "# 6. A Simple Linear Regression Model"
   ]
  },
  {
   "cell_type": "code",
   "execution_count": 23,
   "id": "251cde8c",
   "metadata": {},
   "outputs": [],
   "source": [
    "# Initialize some lists for storing results:\n",
    "method_list = []\n",
    "r2_list_train = []\n",
    "r2_list_test = []\n",
    "rmse_list = []\n"
   ]
  },
  {
   "cell_type": "code",
   "execution_count": 24,
   "id": "0d20d89e",
   "metadata": {},
   "outputs": [
    {
     "data": {
      "text/html": [
       "<div>\n",
       "<style scoped>\n",
       "    .dataframe tbody tr th:only-of-type {\n",
       "        vertical-align: middle;\n",
       "    }\n",
       "\n",
       "    .dataframe tbody tr th {\n",
       "        vertical-align: top;\n",
       "    }\n",
       "\n",
       "    .dataframe thead th {\n",
       "        text-align: right;\n",
       "    }\n",
       "</style>\n",
       "<table border=\"1\" class=\"dataframe\">\n",
       "  <thead>\n",
       "    <tr style=\"text-align: right;\">\n",
       "      <th></th>\n",
       "      <th>year</th>\n",
       "      <th>mileage</th>\n",
       "      <th>engine_size</th>\n",
       "      <th>Automatic</th>\n",
       "      <th>Manual</th>\n",
       "      <th>Other_Transmission</th>\n",
       "      <th>Semi-Auto</th>\n",
       "      <th>Diesel</th>\n",
       "      <th>Hybrid</th>\n",
       "      <th>Other_Fuel</th>\n",
       "      <th>Petrol</th>\n",
       "    </tr>\n",
       "  </thead>\n",
       "  <tbody>\n",
       "    <tr>\n",
       "      <th>0</th>\n",
       "      <td>2020.0</td>\n",
       "      <td>1200.0</td>\n",
       "      <td>2.0</td>\n",
       "      <td>1</td>\n",
       "      <td>0</td>\n",
       "      <td>0</td>\n",
       "      <td>0</td>\n",
       "      <td>1</td>\n",
       "      <td>0</td>\n",
       "      <td>0</td>\n",
       "      <td>0</td>\n",
       "    </tr>\n",
       "    <tr>\n",
       "      <th>1</th>\n",
       "      <td>2020.0</td>\n",
       "      <td>1000.0</td>\n",
       "      <td>1.5</td>\n",
       "      <td>1</td>\n",
       "      <td>0</td>\n",
       "      <td>0</td>\n",
       "      <td>0</td>\n",
       "      <td>0</td>\n",
       "      <td>0</td>\n",
       "      <td>0</td>\n",
       "      <td>1</td>\n",
       "    </tr>\n",
       "    <tr>\n",
       "      <th>2</th>\n",
       "      <td>2020.0</td>\n",
       "      <td>500.0</td>\n",
       "      <td>2.0</td>\n",
       "      <td>1</td>\n",
       "      <td>0</td>\n",
       "      <td>0</td>\n",
       "      <td>0</td>\n",
       "      <td>1</td>\n",
       "      <td>0</td>\n",
       "      <td>0</td>\n",
       "      <td>0</td>\n",
       "    </tr>\n",
       "    <tr>\n",
       "      <th>3</th>\n",
       "      <td>2019.0</td>\n",
       "      <td>5000.0</td>\n",
       "      <td>2.0</td>\n",
       "      <td>1</td>\n",
       "      <td>0</td>\n",
       "      <td>0</td>\n",
       "      <td>0</td>\n",
       "      <td>1</td>\n",
       "      <td>0</td>\n",
       "      <td>0</td>\n",
       "      <td>0</td>\n",
       "    </tr>\n",
       "    <tr>\n",
       "      <th>4</th>\n",
       "      <td>2019.0</td>\n",
       "      <td>4500.0</td>\n",
       "      <td>2.0</td>\n",
       "      <td>1</td>\n",
       "      <td>0</td>\n",
       "      <td>0</td>\n",
       "      <td>0</td>\n",
       "      <td>1</td>\n",
       "      <td>0</td>\n",
       "      <td>0</td>\n",
       "      <td>0</td>\n",
       "    </tr>\n",
       "  </tbody>\n",
       "</table>\n",
       "</div>"
      ],
      "text/plain": [
       "     year  mileage  engine_size  Automatic  Manual  Other_Transmission  \\\n",
       "0  2020.0   1200.0          2.0          1       0                   0   \n",
       "1  2020.0   1000.0          1.5          1       0                   0   \n",
       "2  2020.0    500.0          2.0          1       0                   0   \n",
       "3  2019.0   5000.0          2.0          1       0                   0   \n",
       "4  2019.0   4500.0          2.0          1       0                   0   \n",
       "\n",
       "   Semi-Auto  Diesel  Hybrid  Other_Fuel  Petrol  \n",
       "0          0       1       0           0       0  \n",
       "1          0       0       0           0       1  \n",
       "2          0       1       0           0       0  \n",
       "3          0       1       0           0       0  \n",
       "4          0       1       0           0       0  "
      ]
     },
     "execution_count": 24,
     "metadata": {},
     "output_type": "execute_result"
    }
   ],
   "source": [
    "from sklearn.model_selection import train_test_split\n",
    "response = df.price\n",
    "features = df.drop('price', axis = 1)\n",
    "\n",
    "features.head()"
   ]
  },
  {
   "cell_type": "code",
   "execution_count": 25,
   "id": "9ccbc095",
   "metadata": {},
   "outputs": [
    {
     "name": "stdout",
     "output_type": "stream",
     "text": [
      "Train size = 2923, Test size = 975.\n"
     ]
    }
   ],
   "source": [
    "#Spliting data\n",
    "X_train, X_test, Y_train, Y_test = train_test_split(features, response, train_size = 0.75, random_state = 42)\n",
    "print('Train size = {}, Test size = {}.'.format(len(X_train),len(X_test)))"
   ]
  },
  {
   "cell_type": "markdown",
   "id": "08ede4e4",
   "metadata": {},
   "source": [
    "## 6.1 Training and Testing"
   ]
  },
  {
   "cell_type": "code",
   "execution_count": 26,
   "id": "305e4650",
   "metadata": {},
   "outputs": [],
   "source": [
    "#build the model\n",
    "from sklearn.linear_model import LinearRegression\n",
    "model = LinearRegression()\n",
    "\n",
    "# Train the model\n",
    "model.fit(X_train, Y_train)\n",
    "\n",
    "# Predict\n",
    "y_pred = model.predict(X_test)\n",
    "y_true = Y_test"
   ]
  },
  {
   "cell_type": "markdown",
   "id": "8a7fdc69",
   "metadata": {},
   "source": [
    "## 6.2 Calculate the performance metric"
   ]
  },
  {
   "cell_type": "code",
   "execution_count": 27,
   "id": "77a78b13",
   "metadata": {},
   "outputs": [
    {
     "name": "stdout",
     "output_type": "stream",
     "text": [
      "The R-Squared of training data is:  0.7698918676761602\n",
      "The R-Squared of testing data is:  0.7569212366862703\n",
      "The RMSE is:  4635.395585095545\n"
     ]
    }
   ],
   "source": [
    "# RMSE\n",
    "from sklearn.metrics import mean_squared_error\n",
    "\n",
    "RMSE = mean_squared_error(y_true, y_pred)**.5\n",
    "\n",
    "# R-Squared\n",
    "r2_train = model.score(X_train, Y_train)\n",
    "r2_test = model.score(X_test, Y_test)\n",
    "\n",
    "print(\"The R-Squared of training data is: \", r2_train)\n",
    "print(\"The R-Squared of testing data is: \", r2_test)\n",
    "print(\"The RMSE is: \", RMSE)\n",
    "\n",
    "\n",
    "method_list.append('Simple Linear Regression')\n",
    "r2_list_train.append(r2_train)\n",
    "r2_list_test.append(r2_test)\n",
    "rmse_list.append(RMSE)"
   ]
  },
  {
   "cell_type": "markdown",
   "id": "4eb11187",
   "metadata": {},
   "source": [
    "## 6.3 Visualize the Actual vs Predicted for Simple Linear Regression"
   ]
  },
  {
   "cell_type": "code",
   "execution_count": 28,
   "id": "9a2e9b67",
   "metadata": {},
   "outputs": [
    {
     "data": {
      "image/png": "[encoded data removed]",
      "text/plain": [
       "<Figure size 640x480 with 1 Axes>"
      ]
     },
     "metadata": {},
     "output_type": "display_data"
    }
   ],
   "source": [
    "# plot the prediction vs actual\n",
    "plt.scatter(y_pred, y_true, color = 'r')\n",
    "plt.xlabel(\"Predicted Price\")\n",
    "plt.ylabel(\"Actual Price\")\n",
    "plt.title(\"Simple Linear Regression Model\")\n",
    "plt.plot([Y_test.min(), Y_test.max()], [Y_test.min(), Y_test.max()], 'k--', label = \"Slope = 1\")\n",
    "plt.legend()\n",
    "plt.show()"
   ]
  },
  {
   "cell_type": "markdown",
   "id": "45cd03c7",
   "metadata": {},
   "source": [
    "# 7. Linear Regression with Lasso"
   ]
  },
  {
   "cell_type": "code",
   "execution_count": 29,
   "id": "80cd1e87",
   "metadata": {},
   "outputs": [
    {
     "name": "stdout",
     "output_type": "stream",
     "text": [
      "The training size is: 2923, the testing size is 975\n"
     ]
    }
   ],
   "source": [
    "from sklearn.model_selection import train_test_split\n",
    "response = df.price\n",
    "features = df.drop('price', axis = 1)\n",
    "X_train, X_test, Y_train, Y_test = train_test_split(features, response, test_size=0.25, random_state=42 )\n",
    "\n",
    "print('The training size is: {}, the testing size is {}'.format(len(X_train), len(X_test)))"
   ]
  },
  {
   "cell_type": "markdown",
   "id": "64d4ce2f",
   "metadata": {},
   "source": [
    "## 7.1 Training and Testing"
   ]
  },
  {
   "cell_type": "code",
   "execution_count": 30,
   "id": "9f85e1d4",
   "metadata": {},
   "outputs": [],
   "source": [
    "# Find the best alpha\n",
    "from sklearn.linear_model import Lasso, LassoCV\n",
    "\n",
    "model_lasso_cv = LassoCV(alphas = np.arange(1,1001,0.5), max_iter=4000).fit(X_train, Y_train)"
   ]
  },
  {
   "cell_type": "code",
   "execution_count": 31,
   "id": "3a57bbb5",
   "metadata": {},
   "outputs": [
    {
     "name": "stdout",
     "output_type": "stream",
     "text": [
      "The best alpha is : 4.0\n"
     ]
    }
   ],
   "source": [
    "# Best alpha\n",
    "model_lasso_cv.alpha_\n",
    "model_lasso_best = Lasso(alpha = model_lasso_cv.alpha_)\n",
    "\n",
    "print('The best alpha is :', model_lasso_cv.alpha_)\n"
   ]
  },
  {
   "cell_type": "code",
   "execution_count": 32,
   "id": "b36c069f",
   "metadata": {},
   "outputs": [],
   "source": [
    "# Train the model\n",
    "model_lasso_best.fit(X_train, Y_train)\n",
    "\n",
    "# Predict\n",
    "y_pred = model_lasso_best.predict(X_test)\n",
    "y_true = Y_test\n"
   ]
  },
  {
   "cell_type": "markdown",
   "id": "a8a78e07",
   "metadata": {},
   "source": [
    "## 7.2 Metrics for Linear Regression with Lasso"
   ]
  },
  {
   "cell_type": "code",
   "execution_count": 33,
   "id": "233bb50c",
   "metadata": {},
   "outputs": [
    {
     "name": "stdout",
     "output_type": "stream",
     "text": [
      "RMSE is  4636.039669014831\n",
      "R-Squared for training data set is  0.7696833000563319\n",
      "R-Squared for testing data set is  0.7568536808555559\n"
     ]
    }
   ],
   "source": [
    "from sklearn.metrics import mean_squared_error\n",
    "\n",
    "RMSE = mean_squared_error(y_true, y_pred)**.5\n",
    "r2_train = model_lasso_best.score(X_train, Y_train)\n",
    "r2_test = model_lasso_best.score(X_test, Y_test)\n",
    "\n",
    "\n",
    "print('RMSE is ', RMSE)\n",
    "print('R-Squared for training data set is ', r2_train)\n",
    "print('R-Squared for testing data set is ', r2_test)\n",
    "\n",
    "method_list.append('Linear Regression with Lasso')\n",
    "r2_list_train.append(r2_train)\n",
    "r2_list_test.append(r2_test)\n",
    "rmse_list.append(RMSE)"
   ]
  },
  {
   "cell_type": "markdown",
   "id": "5c8f8d87",
   "metadata": {},
   "source": [
    "## 7.3 Visualize the Actual vs Predicted for Linear Regression Model with Lasso"
   ]
  },
  {
   "cell_type": "code",
   "execution_count": 34,
   "id": "5f514f4d",
   "metadata": {},
   "outputs": [
    {
     "data": {
      "image/png": "[encoded data removed]",
      "text/plain": [
       "<Figure size 640x480 with 1 Axes>"
      ]
     },
     "metadata": {},
     "output_type": "display_data"
    }
   ],
   "source": [
    "plt.scatter(y_pred, Y_test)\n",
    "# plt.plot(X_test, y_pred, 'k--')\n",
    "plt.xlabel('Predicted Price')\n",
    "plt.ylabel('Actual Price')\n",
    "plt.plot([Y_test.min(), Y_test.max()], [Y_test.min(), Y_test.max()], 'k--', label = \"Slope = 1\")\n",
    "plt.title('Lasso Linear Regression Model')\n",
    "\n",
    "plt.show()"
   ]
  },
  {
   "cell_type": "markdown",
   "id": "5f4e2c14",
   "metadata": {},
   "source": [
    "# 8. Polynomial Regression"
   ]
  },
  {
   "cell_type": "code",
   "execution_count": 35,
   "id": "130db794",
   "metadata": {},
   "outputs": [
    {
     "name": "stdout",
     "output_type": "stream",
     "text": [
      "The training size is: 2923, the testing size is 975\n"
     ]
    }
   ],
   "source": [
    "from sklearn.model_selection import train_test_split\n",
    "response = df.price\n",
    "features = df.drop('price', axis = 1)\n",
    "X_train, X_test, Y_train, Y_test = train_test_split(features, response, test_size=0.25, random_state=42 )\n",
    "\n",
    "print('The training size is: {}, the testing size is {}'.format(len(X_train), len(X_test)))"
   ]
  },
  {
   "cell_type": "markdown",
   "id": "d08d61be",
   "metadata": {},
   "source": [
    "## 8.1 Define the function to find the best Polynomial Degree"
   ]
  },
  {
   "cell_type": "code",
   "execution_count": 36,
   "id": "535c55a9",
   "metadata": {},
   "outputs": [],
   "source": [
    "from sklearn.preprocessing import PolynomialFeatures\n",
    "from sklearn.linear_model import LinearRegression\n",
    "from sklearn.metrics import mean_squared_error\n",
    "def PolyRegression (deg):\n",
    "    # Split the training and testing dataset\n",
    "    X_train, X_test, Y_train, Y_test = train_test_split(features, response, test_size=0.25, random_state=42 )\n",
    "    \n",
    "    # Initialize the model and transform the X_train and X_test\n",
    "    poly = PolynomialFeatures(degree=deg)\n",
    "    X_train = poly.fit_transform(X_train)\n",
    "    X_test = poly.fit_transform(X_test)\n",
    "    \n",
    "    # Train the model \n",
    "    model_poly = LinearRegression()\n",
    "    model_poly.fit(X_train, Y_train)\n",
    "    \n",
    "    # Predict\n",
    "    y_pred = model_poly.predict(X_test)\n",
    "    y_true = Y_test\n",
    "    \n",
    "    # Compute the metrics\n",
    "    RMSE = mean_squared_error(y_true, y_pred)**.5\n",
    "    R_squared_train = model_poly.score(X_train, Y_train)\n",
    "    R_squared_test = model_poly.score(X_test, Y_test)\n",
    "    \n",
    "    # Return the metrics\n",
    "    print('The polynomial degree is :', deg)\n",
    "    print('RMSE is ', RMSE)\n",
    "    print('R-Squared for training data set is ', R_squared_train)\n",
    "    print('R-Squared for testing data set is ', R_squared_test)\n",
    "    print()\n",
    "    \n",
    "    # Return the best RMSE\n",
    "    return RMSE"
   ]
  },
  {
   "cell_type": "markdown",
   "id": "c3114525",
   "metadata": {},
   "source": [
    "## 8.2 Get the best Polynomial Degree with the lowest RMSE"
   ]
  },
  {
   "cell_type": "code",
   "execution_count": 37,
   "id": "912eea8b",
   "metadata": {},
   "outputs": [
    {
     "name": "stdout",
     "output_type": "stream",
     "text": [
      "The polynomial degree is : 1\n",
      "RMSE is  4635.3955850953425\n",
      "R-Squared for training data set is  0.7698918676761604\n",
      "R-Squared for testing data set is  0.7569212366862916\n",
      "\n",
      "The polynomial degree is : 2\n",
      "RMSE is  3440.4002743116366\n",
      "R-Squared for training data set is  0.8696813766529402\n",
      "R-Squared for testing data set is  0.8660966754445121\n",
      "\n",
      "The polynomial degree is : 3\n",
      "RMSE is  3019.4724770876664\n",
      "R-Squared for training data set is  0.8962519869631485\n",
      "R-Squared for testing data set is  0.8968579964972593\n",
      "\n",
      "The polynomial degree is : 4\n",
      "RMSE is  3102.55128901571\n",
      "R-Squared for training data set is  0.9014769048763425\n",
      "R-Squared for testing data set is  0.8911041443085265\n",
      "\n",
      "The polynomial degree is : 5\n",
      "RMSE is  6722.04295434649\n",
      "R-Squared for training data set is  0.6333341196385615\n",
      "R-Squared for testing data set is  0.4888174981236961\n",
      "\n",
      "The polynomial degree is : 6\n",
      "RMSE is  6856.5374723391205\n",
      "R-Squared for training data set is  0.8814474880836036\n",
      "R-Squared for testing data set is  0.468157400735417\n",
      "\n",
      "The best polynomial degree is : 3, and the RMSE is : 3019.4724770876664\n"
     ]
    }
   ],
   "source": [
    "RMSE_list = []\n",
    "max_deg = 7\n",
    "for i in range(1,max_deg):\n",
    "    RMSE_list.append(PolyRegression(i)) \n",
    "    \n",
    "Best_RMSE = min(RMSE_list)\n",
    "Best_poly_deg = RMSE_list.index(min(RMSE_list))+1\n",
    "print(\"The best polynomial degree is : {}, and the RMSE is : {}\".format(Best_poly_deg, Best_RMSE))\n",
    "\n"
   ]
  },
  {
   "cell_type": "code",
   "execution_count": 38,
   "id": "1979b2f4",
   "metadata": {},
   "outputs": [
    {
     "data": {
      "image/png": "[encoded data removed]",
      "text/plain": [
       "<Figure size 640x480 with 1 Axes>"
      ]
     },
     "metadata": {},
     "output_type": "display_data"
    }
   ],
   "source": [
    "plt.scatter(range(1,max_deg), RMSE_list)\n",
    "plt.plot(range(1,max_deg), RMSE_list, 'k--')\n",
    "plt.title('RMSE vs Polynomial Degree')\n",
    "plt.xlabel('Degree')\n",
    "plt.ylabel('RMSE')\n",
    "plt.show()"
   ]
  },
  {
   "cell_type": "markdown",
   "id": "99458a5b",
   "metadata": {},
   "source": [
    "## 8.3 Build the model using the best Polynomial Degree"
   ]
  },
  {
   "cell_type": "code",
   "execution_count": 39,
   "id": "7636f350",
   "metadata": {},
   "outputs": [],
   "source": [
    "# Split the training and testing dataset\n",
    "X_train, X_test, Y_train, Y_test = train_test_split(features, response, test_size=0.25, random_state=42 )\n",
    "\n",
    "# Initialize the model and transform the X_train and X_test\n",
    "poly = PolynomialFeatures(degree=Best_poly_deg)\n",
    "X_train = poly.fit_transform(X_train)\n",
    "X_test = poly.fit_transform(X_test)\n",
    "\n",
    "# Train the model \n",
    "model_poly = LinearRegression()\n",
    "model_poly.fit(X_train, Y_train)\n",
    "\n",
    "# Predict\n",
    "y_pred = model_poly.predict(X_test)\n",
    "y_true = Y_test\n",
    "\n",
    "\n",
    "#Metrics\n",
    "\n",
    "RMSE = mean_squared_error(y_true, y_pred)**.5\n",
    "r2_train = model_poly.score(X_train, Y_train)\n",
    "r2_test = model_poly.score(X_test, Y_test)\n",
    "\n",
    "method_list.append('Simple Polynomial Regression')\n",
    "r2_list_train.append(r2_train)\n",
    "r2_list_test.append(r2_test)\n",
    "rmse_list.append(Best_RMSE)"
   ]
  },
  {
   "cell_type": "markdown",
   "id": "63a9de01",
   "metadata": {},
   "source": [
    "## 8.4 Visualize the result"
   ]
  },
  {
   "cell_type": "code",
   "execution_count": 40,
   "id": "8c8304eb",
   "metadata": {
    "scrolled": true
   },
   "outputs": [
    {
     "data": {
      "image/png": "[encoded data removed]",
      "text/plain": [
       "<Figure size 640x480 with 1 Axes>"
      ]
     },
     "metadata": {},
     "output_type": "display_data"
    }
   ],
   "source": [
    "# Plot\n",
    "plt.scatter(y_pred, y_true)\n",
    "plt.plot([Y_test.min(), Y_test.max()], [Y_test.min(), Y_test.max()], 'k--', label = \"Slope = 1\")\n",
    "plt.xlabel('Predicted Price')\n",
    "plt.ylabel('Actual Price')\n",
    "plt.title('Regression Model: Polynomial Degree = {}'.format(Best_poly_deg))\n",
    "plt.legend()\n",
    "plt.show()"
   ]
  },
  {
   "cell_type": "markdown",
   "id": "d6c2bdbc",
   "metadata": {},
   "source": [
    "# 9. Conclusions "
   ]
  },
  {
   "cell_type": "code",
   "execution_count": 41,
   "id": "25fa9237",
   "metadata": {},
   "outputs": [
    {
     "data": {
      "text/html": [
       "<div>\n",
       "<style scoped>\n",
       "    .dataframe tbody tr th:only-of-type {\n",
       "        vertical-align: middle;\n",
       "    }\n",
       "\n",
       "    .dataframe tbody tr th {\n",
       "        vertical-align: top;\n",
       "    }\n",
       "\n",
       "    .dataframe thead th {\n",
       "        text-align: right;\n",
       "    }\n",
       "</style>\n",
       "<table border=\"1\" class=\"dataframe\">\n",
       "  <thead>\n",
       "    <tr style=\"text-align: right;\">\n",
       "      <th></th>\n",
       "      <th>Method</th>\n",
       "      <th>R2_Train</th>\n",
       "      <th>R2_Test</th>\n",
       "      <th>RMSE</th>\n",
       "    </tr>\n",
       "  </thead>\n",
       "  <tbody>\n",
       "    <tr>\n",
       "      <th>0</th>\n",
       "      <td>Simple Linear Regression</td>\n",
       "      <td>0.7698918676761602</td>\n",
       "      <td>0.7569212366862703</td>\n",
       "      <td>4635.395585095545</td>\n",
       "    </tr>\n",
       "    <tr>\n",
       "      <th>1</th>\n",
       "      <td>Linear Regression with Lasso</td>\n",
       "      <td>0.7696833000563319</td>\n",
       "      <td>0.7568536808555559</td>\n",
       "      <td>4636.039669014831</td>\n",
       "    </tr>\n",
       "    <tr>\n",
       "      <th>2</th>\n",
       "      <td>Simple Polynomial Regression</td>\n",
       "      <td>0.8962519869631485</td>\n",
       "      <td>0.8968579964972593</td>\n",
       "      <td>3019.4724770876664</td>\n",
       "    </tr>\n",
       "  </tbody>\n",
       "</table>\n",
       "</div>"
      ],
      "text/plain": [
       "                         Method            R2_Train             R2_Test  \\\n",
       "0      Simple Linear Regression  0.7698918676761602  0.7569212366862703   \n",
       "1  Linear Regression with Lasso  0.7696833000563319  0.7568536808555559   \n",
       "2  Simple Polynomial Regression  0.8962519869631485  0.8968579964972593   \n",
       "\n",
       "                 RMSE  \n",
       "0   4635.395585095545  \n",
       "1   4636.039669014831  \n",
       "2  3019.4724770876664  "
      ]
     },
     "execution_count": 41,
     "metadata": {},
     "output_type": "execute_result"
    }
   ],
   "source": [
    "results = np.vstack((method_list, r2_list_train,r2_list_test, rmse_list)).T\n",
    "results_df = pd.DataFrame(results, columns = ['Method', 'R2_Train','R2_Test', 'RMSE'])\n",
    "results_df"
   ]
  },
  {
   "cell_type": "code",
   "execution_count": 42,
   "id": "4d157c8e",
   "metadata": {},
   "outputs": [
    {
     "name": "stdout",
     "output_type": "stream",
     "text": [
      "It can be concluded that Simple Polynomial Regression with degree of 3 has the best performance.\n",
      "The RMSE is: 3019.4724770876664 \n",
      "The R-Squared for training data set is:  0.7696833000563319\n",
      "The R-Squared for testing data set is :  0.7568536808555559\n"
     ]
    }
   ],
   "source": [
    "print('It can be concluded that Simple Polynomial Regression with degree of {} has the best performance.'.format(Best_poly_deg))\n",
    "print('The RMSE is: {} '.format(min(results_df.RMSE)) )\n",
    "print('The R-Squared for training data set is: ', (min(results_df.R2_Train)))\n",
    "print('The R-Squared for testing data set is : ', min(results_df.R2_Test))"
   ]
  },
  {
   "cell_type": "markdown",
   "id": "707caa00",
   "metadata": {},
   "source": [
    "# Part B"
   ]
  },
  {
   "cell_type": "code",
   "execution_count": 43,
   "id": "25c46d4c",
   "metadata": {},
   "outputs": [],
   "source": [
    "#Import necessary packages\n",
    "import numpy as np\n",
    "import pandas as pd\n",
    "import matplotlib.pyplot as plt"
   ]
  },
  {
   "cell_type": "code",
   "execution_count": 44,
   "id": "f65eae2d",
   "metadata": {},
   "outputs": [],
   "source": [
    "#import file\n",
    "df= pd.read_csv('competition_data.csv')"
   ]
  },
  {
   "cell_type": "code",
   "execution_count": 45,
   "id": "cd9d0f1e",
   "metadata": {},
   "outputs": [
    {
     "data": {
      "text/plain": [
       "(3897, 13)"
      ]
     },
     "execution_count": 45,
     "metadata": {},
     "output_type": "execute_result"
    }
   ],
   "source": [
    "df.shape"
   ]
  },
  {
   "cell_type": "code",
   "execution_count": 46,
   "id": "aa0193f4",
   "metadata": {
    "scrolled": true
   },
   "outputs": [
    {
     "data": {
      "text/html": [
       "<div>\n",
       "<style scoped>\n",
       "    .dataframe tbody tr th:only-of-type {\n",
       "        vertical-align: middle;\n",
       "    }\n",
       "\n",
       "    .dataframe tbody tr th {\n",
       "        vertical-align: top;\n",
       "    }\n",
       "\n",
       "    .dataframe thead th {\n",
       "        text-align: right;\n",
       "    }\n",
       "</style>\n",
       "<table border=\"1\" class=\"dataframe\">\n",
       "  <thead>\n",
       "    <tr style=\"text-align: right;\">\n",
       "      <th></th>\n",
       "      <th>Unnamed: 0</th>\n",
       "      <th>year</th>\n",
       "      <th>price</th>\n",
       "      <th>mileage</th>\n",
       "      <th>engine_size</th>\n",
       "      <th>Automatic</th>\n",
       "      <th>Manual</th>\n",
       "      <th>Other</th>\n",
       "      <th>Semi-Auto</th>\n",
       "      <th>fuel_type_Diesel</th>\n",
       "      <th>fuel_type_Hybrid</th>\n",
       "      <th>fuel_type_Other</th>\n",
       "      <th>fuel_type_Petrol</th>\n",
       "    </tr>\n",
       "  </thead>\n",
       "  <tbody>\n",
       "    <tr>\n",
       "      <th>count</th>\n",
       "      <td>3897.000000</td>\n",
       "      <td>3897.000000</td>\n",
       "      <td>3897.000000</td>\n",
       "      <td>3897.000000</td>\n",
       "      <td>3897.000000</td>\n",
       "      <td>3897.000000</td>\n",
       "      <td>3897.000000</td>\n",
       "      <td>3897.000000</td>\n",
       "      <td>3897.000000</td>\n",
       "      <td>3897.000000</td>\n",
       "      <td>3897.000000</td>\n",
       "      <td>3897.000000</td>\n",
       "      <td>3897.000000</td>\n",
       "    </tr>\n",
       "    <tr>\n",
       "      <th>mean</th>\n",
       "      <td>2034.650244</td>\n",
       "      <td>2017.341288</td>\n",
       "      <td>23662.959969</td>\n",
       "      <td>22378.806518</td>\n",
       "      <td>246.505733</td>\n",
       "      <td>0.417501</td>\n",
       "      <td>0.051065</td>\n",
       "      <td>0.000257</td>\n",
       "      <td>0.531178</td>\n",
       "      <td>0.600205</td>\n",
       "      <td>0.038748</td>\n",
       "      <td>0.001540</td>\n",
       "      <td>0.359507</td>\n",
       "    </tr>\n",
       "    <tr>\n",
       "      <th>std</th>\n",
       "      <td>1132.652845</td>\n",
       "      <td>2.204979</td>\n",
       "      <td>8894.733784</td>\n",
       "      <td>22589.428526</td>\n",
       "      <td>703.211619</td>\n",
       "      <td>0.493210</td>\n",
       "      <td>0.220158</td>\n",
       "      <td>0.016019</td>\n",
       "      <td>0.499091</td>\n",
       "      <td>0.489919</td>\n",
       "      <td>0.193018</td>\n",
       "      <td>0.039213</td>\n",
       "      <td>0.479918</td>\n",
       "    </tr>\n",
       "    <tr>\n",
       "      <th>min</th>\n",
       "      <td>0.000000</td>\n",
       "      <td>1991.000000</td>\n",
       "      <td>1290.000000</td>\n",
       "      <td>1.000000</td>\n",
       "      <td>0.000000</td>\n",
       "      <td>0.000000</td>\n",
       "      <td>0.000000</td>\n",
       "      <td>0.000000</td>\n",
       "      <td>0.000000</td>\n",
       "      <td>0.000000</td>\n",
       "      <td>0.000000</td>\n",
       "      <td>0.000000</td>\n",
       "      <td>0.000000</td>\n",
       "    </tr>\n",
       "    <tr>\n",
       "      <th>25%</th>\n",
       "      <td>1058.000000</td>\n",
       "      <td>2016.000000</td>\n",
       "      <td>17690.000000</td>\n",
       "      <td>6000.000000</td>\n",
       "      <td>2.000000</td>\n",
       "      <td>0.000000</td>\n",
       "      <td>0.000000</td>\n",
       "      <td>0.000000</td>\n",
       "      <td>0.000000</td>\n",
       "      <td>0.000000</td>\n",
       "      <td>0.000000</td>\n",
       "      <td>0.000000</td>\n",
       "      <td>0.000000</td>\n",
       "    </tr>\n",
       "    <tr>\n",
       "      <th>50%</th>\n",
       "      <td>2032.000000</td>\n",
       "      <td>2018.000000</td>\n",
       "      <td>22980.000000</td>\n",
       "      <td>14640.000000</td>\n",
       "      <td>2.000000</td>\n",
       "      <td>0.000000</td>\n",
       "      <td>0.000000</td>\n",
       "      <td>0.000000</td>\n",
       "      <td>1.000000</td>\n",
       "      <td>1.000000</td>\n",
       "      <td>0.000000</td>\n",
       "      <td>0.000000</td>\n",
       "      <td>0.000000</td>\n",
       "    </tr>\n",
       "    <tr>\n",
       "      <th>75%</th>\n",
       "      <td>3009.000000</td>\n",
       "      <td>2019.000000</td>\n",
       "      <td>28900.000000</td>\n",
       "      <td>32442.000000</td>\n",
       "      <td>2.100000</td>\n",
       "      <td>1.000000</td>\n",
       "      <td>0.000000</td>\n",
       "      <td>0.000000</td>\n",
       "      <td>1.000000</td>\n",
       "      <td>1.000000</td>\n",
       "      <td>0.000000</td>\n",
       "      <td>0.000000</td>\n",
       "      <td>1.000000</td>\n",
       "    </tr>\n",
       "    <tr>\n",
       "      <th>max</th>\n",
       "      <td>4005.000000</td>\n",
       "      <td>2020.000000</td>\n",
       "      <td>69995.000000</td>\n",
       "      <td>173000.000000</td>\n",
       "      <td>6208.000000</td>\n",
       "      <td>1.000000</td>\n",
       "      <td>1.000000</td>\n",
       "      <td>1.000000</td>\n",
       "      <td>1.000000</td>\n",
       "      <td>1.000000</td>\n",
       "      <td>1.000000</td>\n",
       "      <td>1.000000</td>\n",
       "      <td>1.000000</td>\n",
       "    </tr>\n",
       "  </tbody>\n",
       "</table>\n",
       "</div>"
      ],
      "text/plain": [
       "        Unnamed: 0         year         price        mileage  engine_size  \\\n",
       "count  3897.000000  3897.000000   3897.000000    3897.000000  3897.000000   \n",
       "mean   2034.650244  2017.341288  23662.959969   22378.806518   246.505733   \n",
       "std    1132.652845     2.204979   8894.733784   22589.428526   703.211619   \n",
       "min       0.000000  1991.000000   1290.000000       1.000000     0.000000   \n",
       "25%    1058.000000  2016.000000  17690.000000    6000.000000     2.000000   \n",
       "50%    2032.000000  2018.000000  22980.000000   14640.000000     2.000000   \n",
       "75%    3009.000000  2019.000000  28900.000000   32442.000000     2.100000   \n",
       "max    4005.000000  2020.000000  69995.000000  173000.000000  6208.000000   \n",
       "\n",
       "         Automatic       Manual        Other    Semi-Auto  fuel_type_Diesel  \\\n",
       "count  3897.000000  3897.000000  3897.000000  3897.000000       3897.000000   \n",
       "mean      0.417501     0.051065     0.000257     0.531178          0.600205   \n",
       "std       0.493210     0.220158     0.016019     0.499091          0.489919   \n",
       "min       0.000000     0.000000     0.000000     0.000000          0.000000   \n",
       "25%       0.000000     0.000000     0.000000     0.000000          0.000000   \n",
       "50%       0.000000     0.000000     0.000000     1.000000          1.000000   \n",
       "75%       1.000000     0.000000     0.000000     1.000000          1.000000   \n",
       "max       1.000000     1.000000     1.000000     1.000000          1.000000   \n",
       "\n",
       "       fuel_type_Hybrid  fuel_type_Other  fuel_type_Petrol  \n",
       "count       3897.000000      3897.000000       3897.000000  \n",
       "mean           0.038748         0.001540          0.359507  \n",
       "std            0.193018         0.039213          0.479918  \n",
       "min            0.000000         0.000000          0.000000  \n",
       "25%            0.000000         0.000000          0.000000  \n",
       "50%            0.000000         0.000000          0.000000  \n",
       "75%            0.000000         0.000000          1.000000  \n",
       "max            1.000000         1.000000          1.000000  "
      ]
     },
     "execution_count": 46,
     "metadata": {},
     "output_type": "execute_result"
    }
   ],
   "source": [
    "df.describe()"
   ]
  },
  {
   "cell_type": "markdown",
   "id": "3aea65d2",
   "metadata": {},
   "source": [
    "## Features modification"
   ]
  },
  {
   "cell_type": "markdown",
   "id": "8725da8e",
   "metadata": {},
   "source": [
    "1. Looking into data, it seems that the engine_size are in different unit with some over 2000, but majority 2.000. Therefire dividing those over 1000 by 1000 to align the unit is reasonable."
   ]
  },
  {
   "cell_type": "code",
   "execution_count": 47,
   "id": "52510475",
   "metadata": {},
   "outputs": [],
   "source": [
    "#looking into data, it seems that the engine_size are in different unit, and therefore need modifying\n",
    "df['engine_size'] =  df['engine_size'].apply(lambda x: round(x/1000,3) if x>1000 else round(x,3))"
   ]
  },
  {
   "cell_type": "markdown",
   "id": "ac984e2b",
   "metadata": {},
   "source": [
    "2. Feature engineering by standard scaling of numerical features (i.e. 'year', 'mileage', 'engine_size')"
   ]
  },
  {
   "cell_type": "code",
   "execution_count": 48,
   "id": "065d725e",
   "metadata": {},
   "outputs": [
    {
     "data": {
      "text/html": [
       "<div>\n",
       "<style scoped>\n",
       "    .dataframe tbody tr th:only-of-type {\n",
       "        vertical-align: middle;\n",
       "    }\n",
       "\n",
       "    .dataframe tbody tr th {\n",
       "        vertical-align: top;\n",
       "    }\n",
       "\n",
       "    .dataframe thead th {\n",
       "        text-align: right;\n",
       "    }\n",
       "</style>\n",
       "<table border=\"1\" class=\"dataframe\">\n",
       "  <thead>\n",
       "    <tr style=\"text-align: right;\">\n",
       "      <th></th>\n",
       "      <th>price</th>\n",
       "      <th>year</th>\n",
       "      <th>mileage</th>\n",
       "      <th>engine_size</th>\n",
       "      <th>Automatic</th>\n",
       "      <th>Manual</th>\n",
       "      <th>Other</th>\n",
       "      <th>Semi-Auto</th>\n",
       "      <th>fuel_type_Diesel</th>\n",
       "      <th>fuel_type_Hybrid</th>\n",
       "      <th>fuel_type_Other</th>\n",
       "      <th>fuel_type_Petrol</th>\n",
       "    </tr>\n",
       "  </thead>\n",
       "  <tbody>\n",
       "    <tr>\n",
       "      <th>0</th>\n",
       "      <td>30495</td>\n",
       "      <td>1.205931</td>\n",
       "      <td>-0.937674</td>\n",
       "      <td>-0.081346</td>\n",
       "      <td>1</td>\n",
       "      <td>0</td>\n",
       "      <td>0</td>\n",
       "      <td>0</td>\n",
       "      <td>1</td>\n",
       "      <td>0</td>\n",
       "      <td>0</td>\n",
       "      <td>0</td>\n",
       "    </tr>\n",
       "    <tr>\n",
       "      <th>1</th>\n",
       "      <td>29989</td>\n",
       "      <td>1.205931</td>\n",
       "      <td>-0.946529</td>\n",
       "      <td>-1.107383</td>\n",
       "      <td>1</td>\n",
       "      <td>0</td>\n",
       "      <td>0</td>\n",
       "      <td>0</td>\n",
       "      <td>0</td>\n",
       "      <td>0</td>\n",
       "      <td>0</td>\n",
       "      <td>1</td>\n",
       "    </tr>\n",
       "    <tr>\n",
       "      <th>2</th>\n",
       "      <td>37899</td>\n",
       "      <td>1.205931</td>\n",
       "      <td>-0.968666</td>\n",
       "      <td>-0.081346</td>\n",
       "      <td>1</td>\n",
       "      <td>0</td>\n",
       "      <td>0</td>\n",
       "      <td>0</td>\n",
       "      <td>1</td>\n",
       "      <td>0</td>\n",
       "      <td>0</td>\n",
       "      <td>0</td>\n",
       "    </tr>\n",
       "    <tr>\n",
       "      <th>3</th>\n",
       "      <td>30399</td>\n",
       "      <td>0.752354</td>\n",
       "      <td>-0.769432</td>\n",
       "      <td>-0.081346</td>\n",
       "      <td>1</td>\n",
       "      <td>0</td>\n",
       "      <td>0</td>\n",
       "      <td>0</td>\n",
       "      <td>1</td>\n",
       "      <td>0</td>\n",
       "      <td>0</td>\n",
       "      <td>0</td>\n",
       "    </tr>\n",
       "    <tr>\n",
       "      <th>4</th>\n",
       "      <td>29899</td>\n",
       "      <td>0.752354</td>\n",
       "      <td>-0.791569</td>\n",
       "      <td>-0.081346</td>\n",
       "      <td>1</td>\n",
       "      <td>0</td>\n",
       "      <td>0</td>\n",
       "      <td>0</td>\n",
       "      <td>1</td>\n",
       "      <td>0</td>\n",
       "      <td>0</td>\n",
       "      <td>0</td>\n",
       "    </tr>\n",
       "    <tr>\n",
       "      <th>...</th>\n",
       "      <td>...</td>\n",
       "      <td>...</td>\n",
       "      <td>...</td>\n",
       "      <td>...</td>\n",
       "      <td>...</td>\n",
       "      <td>...</td>\n",
       "      <td>...</td>\n",
       "      <td>...</td>\n",
       "      <td>...</td>\n",
       "      <td>...</td>\n",
       "      <td>...</td>\n",
       "      <td>...</td>\n",
       "    </tr>\n",
       "    <tr>\n",
       "      <th>3892</th>\n",
       "      <td>14700</td>\n",
       "      <td>-0.154801</td>\n",
       "      <td>0.397502</td>\n",
       "      <td>-0.906280</td>\n",
       "      <td>0</td>\n",
       "      <td>1</td>\n",
       "      <td>0</td>\n",
       "      <td>0</td>\n",
       "      <td>1</td>\n",
       "      <td>0</td>\n",
       "      <td>0</td>\n",
       "      <td>0</td>\n",
       "    </tr>\n",
       "    <tr>\n",
       "      <th>3893</th>\n",
       "      <td>18500</td>\n",
       "      <td>0.298777</td>\n",
       "      <td>0.259854</td>\n",
       "      <td>0.212100</td>\n",
       "      <td>1</td>\n",
       "      <td>0</td>\n",
       "      <td>0</td>\n",
       "      <td>0</td>\n",
       "      <td>1</td>\n",
       "      <td>0</td>\n",
       "      <td>0</td>\n",
       "      <td>0</td>\n",
       "    </tr>\n",
       "    <tr>\n",
       "      <th>3894</th>\n",
       "      <td>11900</td>\n",
       "      <td>-1.515532</td>\n",
       "      <td>1.136792</td>\n",
       "      <td>0.212100</td>\n",
       "      <td>0</td>\n",
       "      <td>1</td>\n",
       "      <td>0</td>\n",
       "      <td>0</td>\n",
       "      <td>1</td>\n",
       "      <td>0</td>\n",
       "      <td>0</td>\n",
       "      <td>0</td>\n",
       "    </tr>\n",
       "    <tr>\n",
       "      <th>3895</th>\n",
       "      <td>11300</td>\n",
       "      <td>-1.515532</td>\n",
       "      <td>1.216929</td>\n",
       "      <td>0.212100</td>\n",
       "      <td>1</td>\n",
       "      <td>0</td>\n",
       "      <td>0</td>\n",
       "      <td>0</td>\n",
       "      <td>1</td>\n",
       "      <td>0</td>\n",
       "      <td>0</td>\n",
       "      <td>0</td>\n",
       "    </tr>\n",
       "    <tr>\n",
       "      <th>3896</th>\n",
       "      <td>14800</td>\n",
       "      <td>-1.515532</td>\n",
       "      <td>1.463978</td>\n",
       "      <td>0.212100</td>\n",
       "      <td>1</td>\n",
       "      <td>0</td>\n",
       "      <td>0</td>\n",
       "      <td>0</td>\n",
       "      <td>1</td>\n",
       "      <td>0</td>\n",
       "      <td>0</td>\n",
       "      <td>0</td>\n",
       "    </tr>\n",
       "  </tbody>\n",
       "</table>\n",
       "<p>3897 rows × 12 columns</p>\n",
       "</div>"
      ],
      "text/plain": [
       "      price      year   mileage  engine_size  Automatic  Manual  Other  \\\n",
       "0     30495  1.205931 -0.937674    -0.081346          1       0      0   \n",
       "1     29989  1.205931 -0.946529    -1.107383          1       0      0   \n",
       "2     37899  1.205931 -0.968666    -0.081346          1       0      0   \n",
       "3     30399  0.752354 -0.769432    -0.081346          1       0      0   \n",
       "4     29899  0.752354 -0.791569    -0.081346          1       0      0   \n",
       "...     ...       ...       ...          ...        ...     ...    ...   \n",
       "3892  14700 -0.154801  0.397502    -0.906280          0       1      0   \n",
       "3893  18500  0.298777  0.259854     0.212100          1       0      0   \n",
       "3894  11900 -1.515532  1.136792     0.212100          0       1      0   \n",
       "3895  11300 -1.515532  1.216929     0.212100          1       0      0   \n",
       "3896  14800 -1.515532  1.463978     0.212100          1       0      0   \n",
       "\n",
       "      Semi-Auto  fuel_type_Diesel  fuel_type_Hybrid  fuel_type_Other  \\\n",
       "0             0                 1                 0                0   \n",
       "1             0                 0                 0                0   \n",
       "2             0                 1                 0                0   \n",
       "3             0                 1                 0                0   \n",
       "4             0                 1                 0                0   \n",
       "...         ...               ...               ...              ...   \n",
       "3892          0                 1                 0                0   \n",
       "3893          0                 1                 0                0   \n",
       "3894          0                 1                 0                0   \n",
       "3895          0                 1                 0                0   \n",
       "3896          0                 1                 0                0   \n",
       "\n",
       "      fuel_type_Petrol  \n",
       "0                    0  \n",
       "1                    1  \n",
       "2                    0  \n",
       "3                    0  \n",
       "4                    0  \n",
       "...                ...  \n",
       "3892                 0  \n",
       "3893                 0  \n",
       "3894                 0  \n",
       "3895                 0  \n",
       "3896                 0  \n",
       "\n",
       "[3897 rows x 12 columns]"
      ]
     },
     "execution_count": 48,
     "metadata": {},
     "output_type": "execute_result"
    }
   ],
   "source": [
    "from sklearn.preprocessing import StandardScaler\n",
    "\n",
    "#build a standard scaler\n",
    "ss = StandardScaler()\n",
    "\n",
    "#split the dependent variables in two categories (numeric variables and categorical variables)\n",
    "label_cat = ['Automatic', 'Manual', 'Other', \n",
    "          'Semi-Auto', 'fuel_type_Diesel', 'fuel_type_Hybrid', 'fuel_type_Other', 'fuel_type_Petrol']\n",
    "label_numeric = [ 'year','mileage', 'engine_size']\n",
    " \n",
    "# standardization \n",
    "df_s = ss.fit_transform(df[label_numeric])\n",
    "df_s = pd.DataFrame(df_s, columns=df[label_numeric].columns)\n",
    "df = pd.concat([df.price, df_s, df[label_cat]], axis = 1)\n",
    "\n",
    "pd.DataFrame(df, columns=df.columns)\n",
    "\n",
    "df"
   ]
  },
  {
   "cell_type": "code",
   "execution_count": 49,
   "id": "d11a7e50",
   "metadata": {
    "scrolled": true
   },
   "outputs": [
    {
     "data": {
      "text/html": [
       "<div>\n",
       "<style scoped>\n",
       "    .dataframe tbody tr th:only-of-type {\n",
       "        vertical-align: middle;\n",
       "    }\n",
       "\n",
       "    .dataframe tbody tr th {\n",
       "        vertical-align: top;\n",
       "    }\n",
       "\n",
       "    .dataframe thead th {\n",
       "        text-align: right;\n",
       "    }\n",
       "</style>\n",
       "<table border=\"1\" class=\"dataframe\">\n",
       "  <thead>\n",
       "    <tr style=\"text-align: right;\">\n",
       "      <th></th>\n",
       "      <th>price</th>\n",
       "      <th>year</th>\n",
       "      <th>mileage</th>\n",
       "      <th>engine_size</th>\n",
       "      <th>Automatic</th>\n",
       "      <th>Manual</th>\n",
       "      <th>Other</th>\n",
       "      <th>Semi-Auto</th>\n",
       "      <th>fuel_type_Diesel</th>\n",
       "      <th>fuel_type_Hybrid</th>\n",
       "      <th>fuel_type_Other</th>\n",
       "      <th>fuel_type_Petrol</th>\n",
       "    </tr>\n",
       "  </thead>\n",
       "  <tbody>\n",
       "    <tr>\n",
       "      <th>count</th>\n",
       "      <td>3897.000000</td>\n",
       "      <td>3.897000e+03</td>\n",
       "      <td>3.897000e+03</td>\n",
       "      <td>3.897000e+03</td>\n",
       "      <td>3897.000000</td>\n",
       "      <td>3897.000000</td>\n",
       "      <td>3897.000000</td>\n",
       "      <td>3897.000000</td>\n",
       "      <td>3897.000000</td>\n",
       "      <td>3897.000000</td>\n",
       "      <td>3897.000000</td>\n",
       "      <td>3897.000000</td>\n",
       "    </tr>\n",
       "    <tr>\n",
       "      <th>mean</th>\n",
       "      <td>23662.959969</td>\n",
       "      <td>-2.795073e-14</td>\n",
       "      <td>-4.427217e-17</td>\n",
       "      <td>5.938568e-17</td>\n",
       "      <td>0.417501</td>\n",
       "      <td>0.051065</td>\n",
       "      <td>0.000257</td>\n",
       "      <td>0.531178</td>\n",
       "      <td>0.600205</td>\n",
       "      <td>0.038748</td>\n",
       "      <td>0.001540</td>\n",
       "      <td>0.359507</td>\n",
       "    </tr>\n",
       "    <tr>\n",
       "      <th>std</th>\n",
       "      <td>8894.733784</td>\n",
       "      <td>1.000128e+00</td>\n",
       "      <td>1.000128e+00</td>\n",
       "      <td>1.000128e+00</td>\n",
       "      <td>0.493210</td>\n",
       "      <td>0.220158</td>\n",
       "      <td>0.016019</td>\n",
       "      <td>0.499091</td>\n",
       "      <td>0.489919</td>\n",
       "      <td>0.193018</td>\n",
       "      <td>0.039213</td>\n",
       "      <td>0.479918</td>\n",
       "    </tr>\n",
       "    <tr>\n",
       "      <th>min</th>\n",
       "      <td>1290.000000</td>\n",
       "      <td>-1.194781e+01</td>\n",
       "      <td>-9.907589e-01</td>\n",
       "      <td>-4.185492e+00</td>\n",
       "      <td>0.000000</td>\n",
       "      <td>0.000000</td>\n",
       "      <td>0.000000</td>\n",
       "      <td>0.000000</td>\n",
       "      <td>0.000000</td>\n",
       "      <td>0.000000</td>\n",
       "      <td>0.000000</td>\n",
       "      <td>0.000000</td>\n",
       "    </tr>\n",
       "    <tr>\n",
       "      <th>25%</th>\n",
       "      <td>17690.000000</td>\n",
       "      <td>-6.083778e-01</td>\n",
       "      <td>-7.251582e-01</td>\n",
       "      <td>-8.134624e-02</td>\n",
       "      <td>0.000000</td>\n",
       "      <td>0.000000</td>\n",
       "      <td>0.000000</td>\n",
       "      <td>0.000000</td>\n",
       "      <td>0.000000</td>\n",
       "      <td>0.000000</td>\n",
       "      <td>0.000000</td>\n",
       "      <td>0.000000</td>\n",
       "    </tr>\n",
       "    <tr>\n",
       "      <th>50%</th>\n",
       "      <td>22980.000000</td>\n",
       "      <td>2.987767e-01</td>\n",
       "      <td>-3.426293e-01</td>\n",
       "      <td>-8.134624e-02</td>\n",
       "      <td>0.000000</td>\n",
       "      <td>0.000000</td>\n",
       "      <td>0.000000</td>\n",
       "      <td>1.000000</td>\n",
       "      <td>1.000000</td>\n",
       "      <td>0.000000</td>\n",
       "      <td>0.000000</td>\n",
       "      <td>0.000000</td>\n",
       "    </tr>\n",
       "    <tr>\n",
       "      <th>75%</th>\n",
       "      <td>28900.000000</td>\n",
       "      <td>7.523540e-01</td>\n",
       "      <td>4.455396e-01</td>\n",
       "      <td>1.238611e-01</td>\n",
       "      <td>1.000000</td>\n",
       "      <td>0.000000</td>\n",
       "      <td>0.000000</td>\n",
       "      <td>1.000000</td>\n",
       "      <td>1.000000</td>\n",
       "      <td>0.000000</td>\n",
       "      <td>0.000000</td>\n",
       "      <td>1.000000</td>\n",
       "    </tr>\n",
       "    <tr>\n",
       "      <th>max</th>\n",
       "      <td>69995.000000</td>\n",
       "      <td>1.205931e+00</td>\n",
       "      <td>6.668629e+00</td>\n",
       "      <td>8.553777e+00</td>\n",
       "      <td>1.000000</td>\n",
       "      <td>1.000000</td>\n",
       "      <td>1.000000</td>\n",
       "      <td>1.000000</td>\n",
       "      <td>1.000000</td>\n",
       "      <td>1.000000</td>\n",
       "      <td>1.000000</td>\n",
       "      <td>1.000000</td>\n",
       "    </tr>\n",
       "  </tbody>\n",
       "</table>\n",
       "</div>"
      ],
      "text/plain": [
       "              price          year       mileage   engine_size    Automatic  \\\n",
       "count   3897.000000  3.897000e+03  3.897000e+03  3.897000e+03  3897.000000   \n",
       "mean   23662.959969 -2.795073e-14 -4.427217e-17  5.938568e-17     0.417501   \n",
       "std     8894.733784  1.000128e+00  1.000128e+00  1.000128e+00     0.493210   \n",
       "min     1290.000000 -1.194781e+01 -9.907589e-01 -4.185492e+00     0.000000   \n",
       "25%    17690.000000 -6.083778e-01 -7.251582e-01 -8.134624e-02     0.000000   \n",
       "50%    22980.000000  2.987767e-01 -3.426293e-01 -8.134624e-02     0.000000   \n",
       "75%    28900.000000  7.523540e-01  4.455396e-01  1.238611e-01     1.000000   \n",
       "max    69995.000000  1.205931e+00  6.668629e+00  8.553777e+00     1.000000   \n",
       "\n",
       "            Manual        Other    Semi-Auto  fuel_type_Diesel  \\\n",
       "count  3897.000000  3897.000000  3897.000000       3897.000000   \n",
       "mean      0.051065     0.000257     0.531178          0.600205   \n",
       "std       0.220158     0.016019     0.499091          0.489919   \n",
       "min       0.000000     0.000000     0.000000          0.000000   \n",
       "25%       0.000000     0.000000     0.000000          0.000000   \n",
       "50%       0.000000     0.000000     1.000000          1.000000   \n",
       "75%       0.000000     0.000000     1.000000          1.000000   \n",
       "max       1.000000     1.000000     1.000000          1.000000   \n",
       "\n",
       "       fuel_type_Hybrid  fuel_type_Other  fuel_type_Petrol  \n",
       "count       3897.000000      3897.000000       3897.000000  \n",
       "mean           0.038748         0.001540          0.359507  \n",
       "std            0.193018         0.039213          0.479918  \n",
       "min            0.000000         0.000000          0.000000  \n",
       "25%            0.000000         0.000000          0.000000  \n",
       "50%            0.000000         0.000000          0.000000  \n",
       "75%            0.000000         0.000000          1.000000  \n",
       "max            1.000000         1.000000          1.000000  "
      ]
     },
     "execution_count": 49,
     "metadata": {},
     "output_type": "execute_result"
    }
   ],
   "source": [
    "df.describe()"
   ]
  },
  {
   "cell_type": "code",
   "execution_count": 50,
   "id": "dc377906",
   "metadata": {},
   "outputs": [],
   "source": [
    "# Import seaborn\n",
    "import seaborn as sns"
   ]
  },
  {
   "cell_type": "code",
   "execution_count": 51,
   "id": "320ac0ae",
   "metadata": {},
   "outputs": [
    {
     "data": {
      "image/png": "[encoded data removed]",
      "text/plain": [
       "<Figure size 640x480 with 2 Axes>"
      ]
     },
     "metadata": {},
     "output_type": "display_data"
    }
   ],
   "source": [
    "#see correlation\n",
    "# Calculate and show correlation matrix\n",
    "cm = np.corrcoef(df.values.T)\n",
    "sns.set(font_scale=0.5)\n",
    "hm = sns.heatmap(cm,\n",
    "                cbar=True,\n",
    "                annot=True,\n",
    "                square=True,\n",
    "                fmt='.2f',\n",
    "                yticklabels=df.columns,\n",
    "                xticklabels=df.columns)"
   ]
  },
  {
   "cell_type": "markdown",
   "id": "da2d197e",
   "metadata": {},
   "source": [
    "# Appying Model"
   ]
  },
  {
   "cell_type": "markdown",
   "id": "2198ca3c",
   "metadata": {},
   "source": [
    "## 1. Linear regression with all features"
   ]
  },
  {
   "cell_type": "code",
   "execution_count": 52,
   "id": "3c4734df",
   "metadata": {},
   "outputs": [],
   "source": [
    "# first let divide the df into features and response\n",
    "from sklearn.model_selection import train_test_split\n",
    "label_all = ['year', 'mileage', 'engine_size', 'Automatic', 'Manual', 'Other', \n",
    "          'Semi-Auto', 'fuel_type_Diesel', 'fuel_type_Hybrid', 'fuel_type_Other', 'fuel_type_Petrol']\n",
    "y = df['price']\n",
    "x = df[label_all]"
   ]
  },
  {
   "cell_type": "code",
   "execution_count": 53,
   "id": "0aa7203b",
   "metadata": {},
   "outputs": [],
   "source": [
    "#split to train and test data\n",
    "x_train, x_test, y_train, y_test = train_test_split(x, y, test_size=0.1, random_state=42)"
   ]
  },
  {
   "cell_type": "code",
   "execution_count": 54,
   "id": "929c8fbf",
   "metadata": {},
   "outputs": [],
   "source": [
    "# build the model\n",
    "from sklearn.linear_model import LinearRegression\n",
    "\n",
    "model1 = LinearRegression()\n",
    "model1.fit(x_train, y_train)\n",
    "\n",
    "# get the predictions for the test dataset\n",
    "predictions1 = model1.predict(x_test)"
   ]
  },
  {
   "cell_type": "code",
   "execution_count": 55,
   "id": "dfe00056",
   "metadata": {},
   "outputs": [],
   "source": [
    "#Evaluation function\n",
    "from sklearn.metrics import mean_squared_error\n",
    "\n",
    "def evaluation(model,prediction):\n",
    "    # R-squared\n",
    "    r2_train = model.score(x_train, y_train)\n",
    "    r2_test = model.score(x_test, y_test)\n",
    "    # RMSE  \n",
    "    mse = mean_squared_error(y_test, prediction)\n",
    "    print(\"R^2 in Training Set:\", r2_train)\n",
    "    print(\"R^2 in Testing Set:\", r2_test)\n",
    "    print('RMSE is :', mse**0.5)"
   ]
  },
  {
   "cell_type": "code",
   "execution_count": 56,
   "id": "306c6216",
   "metadata": {
    "scrolled": true
   },
   "outputs": [
    {
     "name": "stdout",
     "output_type": "stream",
     "text": [
      "R^2 in Training Set: 0.7721601087924325\n",
      "R^2 in Testing Set: 0.7420042556892951\n",
      "RMSE is : 5005.9324977505385\n"
     ]
    }
   ],
   "source": [
    "evaluation(model1, predictions1)"
   ]
  },
  {
   "cell_type": "markdown",
   "id": "4bbf6635",
   "metadata": {},
   "source": [
    "**The result of linear regression with all features is: <br>**\n",
    "R^2 in Testing Set: 0.7420042556892951<br>\n",
    "RMSE: 5005.9324977505385"
   ]
  },
  {
   "cell_type": "markdown",
   "id": "1bc4dec3",
   "metadata": {},
   "source": [
    "## 2. Linear regression with filtered features"
   ]
  },
  {
   "cell_type": "code",
   "execution_count": 57,
   "id": "638c6d62",
   "metadata": {
    "scrolled": true
   },
   "outputs": [
    {
     "name": "stdout",
     "output_type": "stream",
     "text": [
      "R^2 in Training Set: 0.7717092543099449\n",
      "R^2 in Testing Set: 0.7433479380196766\n",
      "RMSE is : 4992.879639150038\n"
     ]
    }
   ],
   "source": [
    "#only include features with correlation > |0.2|\n",
    "\n",
    "# first let divide the df into features and response\n",
    "label_fil = ['year', 'mileage', 'engine_size', 'fuel_type_Petrol', 'Manual', 'fuel_type_Diesel' ]\n",
    "y = df['price']\n",
    "x = df[label_fil]\n",
    "#split to train and test data\n",
    "x_train, x_test, y_train, y_test = train_test_split(x, y, test_size=0.1, random_state=42)\n",
    "# build the model\n",
    "modelf = LinearRegression()\n",
    "modelf.fit(x_train, y_train)\n",
    "# get the predictions for the test dataset\n",
    "predictionsf = modelf.predict(x_test)\n",
    "#evalutaion\n",
    "evaluation(modelf, predictionsf)"
   ]
  },
  {
   "cell_type": "markdown",
   "id": "56760dbb",
   "metadata": {},
   "source": [
    "**The result of linear regression with all features is: <br>**\n",
    "R^2 in Testing Set: 0.7433479380196766 <br>\n",
    "RMSE is : 4992.879639150038"
   ]
  },
  {
   "cell_type": "markdown",
   "id": "d917b6e7",
   "metadata": {},
   "source": [
    "**Conclusion: <br>**\n",
    "With linear regression, filtered features (only features with correlation > |0.2|) performs better"
   ]
  },
  {
   "cell_type": "markdown",
   "id": "84e7e512",
   "metadata": {},
   "source": [
    "## 3. Linear Lasso with filtered features"
   ]
  },
  {
   "cell_type": "code",
   "execution_count": 58,
   "id": "95c7bc1e",
   "metadata": {},
   "outputs": [],
   "source": [
    "#import libraries\n",
    "from sklearn.linear_model import Lasso, LassoCV"
   ]
  },
  {
   "cell_type": "code",
   "execution_count": 59,
   "id": "4d1420ef",
   "metadata": {},
   "outputs": [],
   "source": [
    "y = df['price']\n",
    "x = df[label_fil]\n",
    "#split to train and test data\n",
    "x_train, x_test, y_train, y_test = train_test_split(x, y, test_size=0.1, random_state=42)"
   ]
  },
  {
   "cell_type": "code",
   "execution_count": 60,
   "id": "ca1b69d4",
   "metadata": {},
   "outputs": [
    {
     "name": "stdout",
     "output_type": "stream",
     "text": [
      "1e-05\n"
     ]
    }
   ],
   "source": [
    "# Lasso with different alpha\n",
    "lasso_cv_model = LassoCV(alphas = [0.00001,0.001,0.01,0.1,1,2,3,4,5,6,7,8,9,10]).fit(x_train,y_train)\n",
    "print(lasso_cv_model.alpha_)"
   ]
  },
  {
   "cell_type": "code",
   "execution_count": 61,
   "id": "c1833317",
   "metadata": {},
   "outputs": [],
   "source": [
    "predictions_l = lasso_cv_model.predict(x_test)"
   ]
  },
  {
   "cell_type": "code",
   "execution_count": 62,
   "id": "b5df6788",
   "metadata": {
    "scrolled": false
   },
   "outputs": [
    {
     "name": "stdout",
     "output_type": "stream",
     "text": [
      "R^2 in Training Set: 0.7717092543099449\n",
      "R^2 in Testing Set: 0.7433479378633919\n",
      "RMSE is : 4992.8796406702095\n",
      "\n",
      "\n"
     ]
    }
   ],
   "source": [
    "#Evaluation\n",
    "\n",
    "# R-squared\n",
    "r2_train = lasso_cv_model.score(x_train, y_train)\n",
    "r2_test = lasso_cv_model.score(x_test, y_test)\n",
    "# RMSE\n",
    "mse = mean_squared_error(y_test, predictions_l)\n",
    "    \n",
    "print(\"R^2 in Training Set:\", r2_train)\n",
    "print(\"R^2 in Testing Set:\", r2_test)\n",
    "print('RMSE is :', mse**0.5)\n",
    "print('\\n')"
   ]
  },
  {
   "cell_type": "markdown",
   "id": "96b89124",
   "metadata": {},
   "source": [
    "**The result of linear lasso regression with filtered features is: <br>**\n",
    "R^2 in Testing Set: 0.7433479378633919 <br>\n",
    "RMSE: 4992.8796406702095"
   ]
  },
  {
   "cell_type": "markdown",
   "id": "53eecb0b",
   "metadata": {},
   "source": [
    "## 4. Linear Ridge with filtered features"
   ]
  },
  {
   "cell_type": "code",
   "execution_count": 63,
   "id": "edab2f58",
   "metadata": {},
   "outputs": [],
   "source": [
    "#import libraries\n",
    "from sklearn.linear_model import Ridge, RidgeCV"
   ]
  },
  {
   "cell_type": "code",
   "execution_count": 64,
   "id": "b832f118",
   "metadata": {},
   "outputs": [],
   "source": [
    "y = df['price']\n",
    "x = df[label_fil]\n",
    "#split to train and test data\n",
    "x_train, x_test, y_train, y_test = train_test_split(x, y, test_size=0.1, random_state=42)"
   ]
  },
  {
   "cell_type": "code",
   "execution_count": 65,
   "id": "92b7c1ba",
   "metadata": {
    "scrolled": true
   },
   "outputs": [
    {
     "name": "stdout",
     "output_type": "stream",
     "text": [
      "10.0\n"
     ]
    },
    {
     "name": "stderr",
     "output_type": "stream",
     "text": [
      "/Users/bill/opt/anaconda3/lib/python3.9/site-packages/sklearn/linear_model/_ridge.py:1791: RuntimeWarning: invalid value encountered in reciprocal\n",
      "  w = ((singvals_sq + alpha) ** -1) - (alpha ** -1)\n"
     ]
    }
   ],
   "source": [
    "# Ridge with different alpha\n",
    "ridge_cv_model = RidgeCV(alphas = [0.01,1,2,3,4,5,6,7,8,9,10]).fit(x_train,y_train)\n",
    "print(ridge_cv_model.alpha_)"
   ]
  },
  {
   "cell_type": "code",
   "execution_count": 66,
   "id": "21249bf8",
   "metadata": {},
   "outputs": [],
   "source": [
    "predictions_r = ridge_cv_model.predict(x_test)"
   ]
  },
  {
   "cell_type": "code",
   "execution_count": 67,
   "id": "b796d92a",
   "metadata": {},
   "outputs": [
    {
     "name": "stdout",
     "output_type": "stream",
     "text": [
      "R^2 in Training Set: 0.7716863166604969\n",
      "R^2 in Testing Set: 0.7431877729096283\n",
      "RMSE is : 4994.437312966584\n"
     ]
    }
   ],
   "source": [
    "#Evaluation\n",
    "evaluation(ridge_cv_model,predictions_r)"
   ]
  },
  {
   "cell_type": "markdown",
   "id": "6715c0c7",
   "metadata": {},
   "source": [
    "**The result of linear ridge regression with filtered features is: <br>**\n",
    "R^2 in Testing Set: 0.7431877729096283 <br>\n",
    "RMSE: 4994.437312966584"
   ]
  },
  {
   "cell_type": "markdown",
   "id": "3967b1b2",
   "metadata": {},
   "source": [
    "## Polynomial "
   ]
  },
  {
   "cell_type": "code",
   "execution_count": 68,
   "id": "9082c02d",
   "metadata": {},
   "outputs": [],
   "source": [
    "from sklearn.preprocessing import PolynomialFeatures"
   ]
  },
  {
   "cell_type": "markdown",
   "id": "5a630ae9",
   "metadata": {},
   "source": [
    "## 5. Polynomial regression with filtered features"
   ]
  },
  {
   "cell_type": "code",
   "execution_count": 69,
   "id": "b85562cc",
   "metadata": {},
   "outputs": [],
   "source": [
    "# a function to run polynomial regression with parameter of degree\n",
    "def create_model_p(deg):\n",
    "    \n",
    "    print(\"Model with polynomial degree:\", deg)\n",
    "    \n",
    "    #transform the polynomial features\n",
    "    poly = PolynomialFeatures(degree = deg)\n",
    "    x_poly = poly.fit_transform(x)\n",
    "    \n",
    "    #split to train and test data\n",
    "    x_train, x_test, y_train, y_test = train_test_split(x_poly, y, test_size=0.1, random_state=42)\n",
    "    \n",
    "    #fit in a linear regression\n",
    "    poly.fit(x_train, y_train)\n",
    "    lin = LinearRegression()\n",
    "    lin.fit(x_train, y_train)\n",
    "    \n",
    "    #prediction\n",
    "    predictions_p = lin.predict(x_test)\n",
    "    \n",
    "    #Evaluation\n",
    "    # R-squared\n",
    "    r2_train = lin.score(x_train, y_train)\n",
    "    r2_test = lin.score(x_test, y_test)\n",
    "    # RMSE\n",
    "    mse = mean_squared_error(y_test, predictions_p)\n",
    "    \n",
    "    print(\"R^2 in Training Set:\", r2_train)\n",
    "    print(\"R^2 in Testing Set:\", r2_test)\n",
    "    print('RMSE is :', mse**0.5)\n",
    "    print('\\n')\n",
    "    "
   ]
  },
  {
   "cell_type": "code",
   "execution_count": 70,
   "id": "2074eb98",
   "metadata": {
    "scrolled": true
   },
   "outputs": [
    {
     "name": "stdout",
     "output_type": "stream",
     "text": [
      "Model with polynomial degree: 2\n",
      "R^2 in Training Set: 0.8695914984441271\n",
      "R^2 in Testing Set: 0.8767475252762398\n",
      "RMSE is : 3460.003530777025\n",
      "\n",
      "\n",
      "Model with polynomial degree: 3\n",
      "R^2 in Training Set: 0.8964382162328042\n",
      "R^2 in Testing Set: 0.915195895140464\n",
      "RMSE is : 2870.0347499977047\n",
      "\n",
      "\n",
      "Model with polynomial degree: 4\n",
      "R^2 in Training Set: 0.9076282042997348\n",
      "R^2 in Testing Set: 0.9143848235441728\n",
      "RMSE is : 2883.726683389186\n",
      "\n",
      "\n",
      "Model with polynomial degree: 5\n",
      "R^2 in Training Set: 0.9120805306008778\n",
      "R^2 in Testing Set: 0.91552439861046\n",
      "RMSE is : 2864.4705665804713\n",
      "\n",
      "\n",
      "Model with polynomial degree: 6\n",
      "R^2 in Training Set: 0.9155564106545824\n",
      "R^2 in Testing Set: -5119618.925879805\n",
      "RMSE is : 22299625.949107043\n",
      "\n",
      "\n"
     ]
    }
   ],
   "source": [
    "#a loop to run from polynomial degree= 2 to 6\n",
    "y = df['price']\n",
    "x = df[label_fil]\n",
    "for i in range(2,7):\n",
    "    create_model_p(i)"
   ]
  },
  {
   "cell_type": "markdown",
   "id": "bd93aa21",
   "metadata": {},
   "source": [
    "**The best result of polynomial regression with filtered features is: <br>**\n",
    "Model with polynomial degree: 5 <br>\n",
    "R^2 in Testing Set: 0.91552439861046 <br>\n",
    "RMSE: 2864.4705665804713"
   ]
  },
  {
   "cell_type": "markdown",
   "id": "ad8c35ac",
   "metadata": {},
   "source": [
    "## 6. Polynomial regression with all features "
   ]
  },
  {
   "cell_type": "code",
   "execution_count": 71,
   "id": "becd951f",
   "metadata": {},
   "outputs": [
    {
     "name": "stdout",
     "output_type": "stream",
     "text": [
      "Model with polynomial degree: 2\n",
      "R^2 in Training Set: 0.8705483427746055\n",
      "R^2 in Testing Set: 0.8763648355535458\n",
      "RMSE is : 3465.3708938798645\n",
      "\n",
      "\n",
      "Model with polynomial degree: 3\n",
      "R^2 in Training Set: 0.8984072691520824\n",
      "R^2 in Testing Set: 0.9121160830439032\n",
      "RMSE is : 2921.6851991363774\n",
      "\n",
      "\n",
      "Model with polynomial degree: 4\n",
      "R^2 in Training Set: 0.9106214308150556\n",
      "R^2 in Testing Set: 0.9225976266690967\n",
      "RMSE is : 2741.9268011884183\n",
      "\n",
      "\n",
      "Model with polynomial degree: 5\n",
      "R^2 in Training Set: 0.9143906501255639\n",
      "R^2 in Testing Set: -104786891.24088767\n",
      "RMSE is : 100886300.81503783\n",
      "\n",
      "\n",
      "Model with polynomial degree: 6\n",
      "R^2 in Training Set: 0.9200044602225984\n",
      "R^2 in Testing Set: -6160583.301015512\n",
      "RMSE is : 24461870.931413975\n",
      "\n",
      "\n"
     ]
    }
   ],
   "source": [
    "#a loop to run from polynomial degree= 2 to 6\n",
    "y = df['price']\n",
    "x = df[label_all]\n",
    "for i in range(2,7):\n",
    "    create_model_p(i)"
   ]
  },
  {
   "cell_type": "markdown",
   "id": "b2f4bc17",
   "metadata": {},
   "source": [
    "**The best result of polynomial regression with all features is: <br>**\n",
    "Model with polynomial degree: 4 <br>\n",
    "R^2 in Testing Set: 0.9225976266690967 <br>\n",
    "RMSE: 2741.9268011884183"
   ]
  },
  {
   "cell_type": "markdown",
   "id": "8a6327c1",
   "metadata": {},
   "source": [
    "## Polynomial Lasso"
   ]
  },
  {
   "cell_type": "code",
   "execution_count": 72,
   "id": "a32c5338",
   "metadata": {},
   "outputs": [],
   "source": [
    "# a function to run polynomial regression with parameter of degree\n",
    "def create_model_pl(deg):\n",
    "    \n",
    "    print(\"Lasso Model with polynomial degree:\", deg)\n",
    "    \n",
    "    #transform the polynomial features\n",
    "    poly = PolynomialFeatures(degree = deg)\n",
    "    x_poly = poly.fit_transform(x)\n",
    "    \n",
    "    #split to train and test data\n",
    "    x_train, x_test, y_train, y_test = train_test_split(x_poly, y, test_size=0.1, random_state=42)\n",
    "    \n",
    "    #fit in a linear regression\n",
    "    poly.fit(x_train, y_train)\n",
    "    las = LassoCV(alphas = [0.00001,0.001,0.01,0.1,1,2,3,4,5,6,7,8,9,10,25,100]).fit(x_train,y_train)\n",
    "    las.fit(x_train, y_train)\n",
    "    \n",
    "    #prediction\n",
    "    predictions_p_l = las.predict(x_test)\n",
    "    \n",
    "    print('alpha:', las.alpha_)\n",
    "    \n",
    "    #Evaluation\n",
    "    # R-squared\n",
    "    r2_train = las.score(x_train, y_train)\n",
    "    r2_test = las.score(x_test, y_test)\n",
    "    # RMSE\n",
    "    mse = mean_squared_error(y_test, predictions_p_l)\n",
    "    \n",
    "    print(\"R^2 in Training Set:\", r2_train)\n",
    "    print(\"R^2 in Testing Set:\", r2_test)\n",
    "    print('RMSE is :', mse**0.5)\n",
    "    print('\\n')\n",
    "    "
   ]
  },
  {
   "cell_type": "markdown",
   "id": "d859e144",
   "metadata": {},
   "source": [
    "## 7. Polynomial Lasso with filtered features "
   ]
  },
  {
   "cell_type": "code",
   "execution_count": 73,
   "id": "e49d9e22",
   "metadata": {
    "scrolled": true
   },
   "outputs": [
    {
     "name": "stdout",
     "output_type": "stream",
     "text": [
      "Lasso Model with polynomial degree: 2\n",
      "alpha: 0.1\n",
      "R^2 in Training Set: 0.8695905159270219\n",
      "R^2 in Testing Set: 0.8767440672733753\n",
      "RMSE is : 3460.052067807325\n",
      "\n",
      "\n",
      "Lasso Model with polynomial degree: 3\n",
      "alpha: 0.1\n",
      "R^2 in Training Set: 0.8957696655579523\n",
      "R^2 in Testing Set: 0.9165411504152617\n",
      "RMSE is : 2847.1799387610777\n",
      "\n",
      "\n",
      "Lasso Model with polynomial degree: 4\n",
      "alpha: 25.0\n",
      "R^2 in Training Set: 0.8994195483246616\n",
      "R^2 in Testing Set: 0.9226838139938304\n",
      "RMSE is : 2740.399812109676\n",
      "\n",
      "\n",
      "Lasso Model with polynomial degree: 5\n",
      "alpha: 100.0\n",
      "R^2 in Training Set: 0.8925502273475974\n",
      "R^2 in Testing Set: 0.9205316384390132\n",
      "RMSE is : 2778.278943862716\n",
      "\n",
      "\n",
      "Lasso Model with polynomial degree: 6\n",
      "alpha: 100.0\n",
      "R^2 in Training Set: 0.8928317822173784\n",
      "R^2 in Testing Set: 0.9187382038064186\n",
      "RMSE is : 2809.454007297167\n",
      "\n",
      "\n"
     ]
    }
   ],
   "source": [
    "#import libraries\n",
    "import warnings\n",
    "warnings.filterwarnings('ignore')\n",
    "#a loop to run from polynomial degree= 2 to 6\n",
    "y = df['price']\n",
    "x = df[label_fil]\n",
    "\n",
    "for i in range(2,7):\n",
    "    create_model_pl(i)"
   ]
  },
  {
   "cell_type": "markdown",
   "id": "a9077742",
   "metadata": {},
   "source": [
    "**The best result of polynomial lasso regression with filtered features is: <br>**\n",
    "Model with polynomial degree: 4 <br>\n",
    "R^2 in Testing Set: 0.9226838139938304 <br>\n",
    "RMSE is : 2740.399812109676"
   ]
  },
  {
   "cell_type": "markdown",
   "id": "7471a269",
   "metadata": {},
   "source": [
    "## 8. Polynomial Lasso with all features "
   ]
  },
  {
   "cell_type": "code",
   "execution_count": 74,
   "id": "a55b3e8d",
   "metadata": {},
   "outputs": [
    {
     "name": "stdout",
     "output_type": "stream",
     "text": [
      "Lasso Model with polynomial degree: 2\n",
      "alpha: 3.0\n",
      "R^2 in Training Set: 0.8702387024970384\n",
      "R^2 in Testing Set: 0.8763579663902179\n",
      "RMSE is : 3465.467160456358\n",
      "\n",
      "\n",
      "Lasso Model with polynomial degree: 3\n",
      "alpha: 25.0\n",
      "R^2 in Training Set: 0.8932074836124931\n",
      "R^2 in Testing Set: 0.9143775323138839\n",
      "RMSE is : 2883.849473930373\n",
      "\n",
      "\n",
      "Lasso Model with polynomial degree: 4\n",
      "alpha: 10.0\n",
      "R^2 in Training Set: 0.904585186194844\n",
      "R^2 in Testing Set: 0.9251489373159147\n",
      "RMSE is : 2696.358928371455\n",
      "\n",
      "\n",
      "Lasso Model with polynomial degree: 5\n",
      "alpha: 25.0\n",
      "R^2 in Training Set: 0.9022357588023862\n",
      "R^2 in Testing Set: 0.926991832978987\n",
      "RMSE is : 2662.95875798723\n",
      "\n",
      "\n"
     ]
    }
   ],
   "source": [
    "#a loop to run from polynomial degree= 2 to 5\n",
    "y = df['price']\n",
    "x = df[label_all]\n",
    "\n",
    "for i in range(2,6):\n",
    "    create_model_pl(i)"
   ]
  },
  {
   "cell_type": "markdown",
   "id": "a62e2083",
   "metadata": {},
   "source": [
    "**The best result of polynomial lasso regression with all features is: <br>**\n",
    "Lasso Model with polynomial degree: 5 <br>\n",
    "R^2 in Testing Set: 0.926991832978987 <br>\n",
    "RMSE is : 2662.95875798723"
   ]
  },
  {
   "cell_type": "markdown",
   "id": "22205e39",
   "metadata": {},
   "source": [
    "## Polynomial Ridge "
   ]
  },
  {
   "cell_type": "code",
   "execution_count": 75,
   "id": "5ec73388",
   "metadata": {},
   "outputs": [],
   "source": [
    "# a function to run polynomial regression with parameter of degree\n",
    "def create_model_pr(deg):\n",
    "    \n",
    "    print(\"Ridge Model with polynomial degree:\", deg)\n",
    "    \n",
    "    #transform the polynomial features\n",
    "    poly = PolynomialFeatures(degree = deg)\n",
    "    x_poly = poly.fit_transform(x)\n",
    "    \n",
    "    #split to train and test data\n",
    "    x_train, x_test, y_train, y_test = train_test_split(x_poly, y, test_size=0.1, random_state=42)\n",
    "    \n",
    "    #fit in a linear regression\n",
    "    poly.fit(x_train, y_train)\n",
    "    rid = RidgeCV(alphas = [0.00001, 0.01,1,2,3,4,5,6,7,8,9,10]).fit(x_train,y_train)\n",
    "    rid.fit(x_train, y_train)\n",
    "    \n",
    "    #prediction\n",
    "    predictions_p_r = rid.predict(x_test)\n",
    "    \n",
    "    print('alpha:', rid.alpha_)\n",
    "    \n",
    "    #Evaluation\n",
    "    # R-squared\n",
    "    r2_train = rid.score(x_train, y_train)\n",
    "    r2_test = rid.score(x_test, y_test)\n",
    "    # RMSE\n",
    "    mse = mean_squared_error(y_test, predictions_p_r)\n",
    "    \n",
    "    print(\"R^2 in Training Set:\", r2_train)\n",
    "    print(\"R^2 in Testing Set:\", r2_test)\n",
    "    print('RMSE is :', mse**0.5)\n",
    "    print('\\n')"
   ]
  },
  {
   "cell_type": "markdown",
   "id": "de509fea",
   "metadata": {},
   "source": [
    "## 9. Polynomial Ridge with filtered features"
   ]
  },
  {
   "cell_type": "code",
   "execution_count": 76,
   "id": "9eaeb0b2",
   "metadata": {
    "scrolled": false
   },
   "outputs": [
    {
     "name": "stdout",
     "output_type": "stream",
     "text": [
      "Ridge Model with polynomial degree: 2\n",
      "alpha: 1.0\n",
      "R^2 in Training Set: 0.8695704953119177\n",
      "R^2 in Testing Set: 0.8767201329450808\n",
      "RMSE is : 3460.387994851063\n",
      "\n",
      "\n",
      "Ridge Model with polynomial degree: 3\n",
      "alpha: 10.0\n",
      "R^2 in Training Set: 0.8953182687345412\n",
      "R^2 in Testing Set: 0.9161569789725144\n",
      "RMSE is : 2853.725376355228\n",
      "\n",
      "\n",
      "Ridge Model with polynomial degree: 4\n",
      "alpha: 10.0\n",
      "R^2 in Training Set: 0.9058725070201841\n",
      "R^2 in Testing Set: 0.9188878545169135\n",
      "RMSE is : 2806.8658874534913\n",
      "\n",
      "\n",
      "Ridge Model with polynomial degree: 5\n",
      "alpha: 2.0\n",
      "R^2 in Training Set: 0.9111992302651037\n",
      "R^2 in Testing Set: 0.9185245748428555\n",
      "RMSE is : 2813.144467267393\n",
      "\n",
      "\n",
      "Ridge Model with polynomial degree: 6\n",
      "alpha: 10.0\n",
      "R^2 in Training Set: 0.9115897059262834\n",
      "R^2 in Testing Set: -0.7662408956563329\n",
      "RMSE is : 13097.9607925704\n",
      "\n",
      "\n"
     ]
    }
   ],
   "source": [
    "y = df['price']\n",
    "x = df[label_fil]\n",
    "#a loop to run from polynomial degree= 2 to 6\n",
    "for i in range(2,7):\n",
    "    create_model_pr(i)"
   ]
  },
  {
   "cell_type": "markdown",
   "id": "a06379f0",
   "metadata": {},
   "source": [
    "**The best result of polynomial lasso regression with filtered features is: <br>**\n",
    "Ridge Model with polynomial degree: 4<br>\n",
    "R^2 in Testing Set: 0.9188878545169135<br>\n",
    "RMSE is : 2806.8658874534913"
   ]
  },
  {
   "cell_type": "markdown",
   "id": "918fd6d8",
   "metadata": {},
   "source": [
    "## 10. Polynomial Ridge with all features"
   ]
  },
  {
   "cell_type": "code",
   "execution_count": 77,
   "id": "baaa7e7b",
   "metadata": {
    "scrolled": true
   },
   "outputs": [
    {
     "name": "stdout",
     "output_type": "stream",
     "text": [
      "Ridge Model with polynomial degree: 2\n",
      "alpha: 10.0\n",
      "R^2 in Training Set: 0.8703609783366129\n",
      "R^2 in Testing Set: 0.876190013127798\n",
      "RMSE is : 3467.8200778882247\n",
      "\n",
      "\n",
      "Ridge Model with polynomial degree: 3\n",
      "alpha: 10.0\n",
      "R^2 in Training Set: 0.8978976928445762\n",
      "R^2 in Testing Set: 0.9142747989523188\n",
      "RMSE is : 2885.579035945354\n",
      "\n",
      "\n",
      "Ridge Model with polynomial degree: 4\n",
      "alpha: 10.0\n",
      "R^2 in Training Set: 0.9087620971853025\n",
      "R^2 in Testing Set: 0.9211379879781467\n",
      "RMSE is : 2767.6594101030996\n",
      "\n",
      "\n",
      "Ridge Model with polynomial degree: 5\n",
      "alpha: 10.0\n",
      "R^2 in Training Set: 0.9133292550634748\n",
      "R^2 in Testing Set: 0.8957602003591363\n",
      "RMSE is : 3181.9657591960768\n",
      "\n",
      "\n",
      "Ridge Model with polynomial degree: 6\n",
      "alpha: 10.0\n",
      "R^2 in Training Set: 0.9153761694027955\n",
      "R^2 in Testing Set: -3.8621520433864402\n",
      "RMSE is : 21731.66420213073\n",
      "\n",
      "\n"
     ]
    }
   ],
   "source": [
    "y = df['price']\n",
    "x = df[label_all]\n",
    "#a loop to run from polynomial degree= 2 to 6\n",
    "for i in range(2,7):\n",
    "    create_model_pr(i)"
   ]
  },
  {
   "cell_type": "markdown",
   "id": "f992955d",
   "metadata": {},
   "source": [
    "**The best result of polynomial lasso regression with all features is: <br>**\n",
    "Ridge Model with polynomial degree: 4 <br>\n",
    "R^2 in Testing Set: 0.9211379879781467 <br>\n",
    "RMSE is : 2767.6594101030996"
   ]
  },
  {
   "cell_type": "markdown",
   "id": "91ef5ea0",
   "metadata": {},
   "source": [
    "# Result: The best model"
   ]
  },
  {
   "cell_type": "markdown",
   "id": "66094e8e",
   "metadata": {},
   "source": [
    "From the results above, the lasso polynomial model, including all features with the polynomial degree of 4 performs the best.<br><br>\n",
    "The below with try to improve further by selecting the best alpha. <br>"
   ]
  },
  {
   "cell_type": "code",
   "execution_count": 78,
   "id": "a3cb653e",
   "metadata": {
    "scrolled": true
   },
   "outputs": [
    {
     "data": {
      "text/plain": [
       "array([24.        , 24.02020202, 24.04040404, 24.06060606, 24.08080808,\n",
       "       24.1010101 , 24.12121212, 24.14141414, 24.16161616, 24.18181818,\n",
       "       24.2020202 , 24.22222222, 24.24242424, 24.26262626, 24.28282828,\n",
       "       24.3030303 , 24.32323232, 24.34343434, 24.36363636, 24.38383838,\n",
       "       24.4040404 , 24.42424242, 24.44444444, 24.46464646, 24.48484848,\n",
       "       24.50505051, 24.52525253, 24.54545455, 24.56565657, 24.58585859,\n",
       "       24.60606061, 24.62626263, 24.64646465, 24.66666667, 24.68686869,\n",
       "       24.70707071, 24.72727273, 24.74747475, 24.76767677, 24.78787879,\n",
       "       24.80808081, 24.82828283, 24.84848485, 24.86868687, 24.88888889,\n",
       "       24.90909091, 24.92929293, 24.94949495, 24.96969697, 24.98989899,\n",
       "       25.01010101, 25.03030303, 25.05050505, 25.07070707, 25.09090909,\n",
       "       25.11111111, 25.13131313, 25.15151515, 25.17171717, 25.19191919,\n",
       "       25.21212121, 25.23232323, 25.25252525, 25.27272727, 25.29292929,\n",
       "       25.31313131, 25.33333333, 25.35353535, 25.37373737, 25.39393939,\n",
       "       25.41414141, 25.43434343, 25.45454545, 25.47474747, 25.49494949,\n",
       "       25.51515152, 25.53535354, 25.55555556, 25.57575758, 25.5959596 ,\n",
       "       25.61616162, 25.63636364, 25.65656566, 25.67676768, 25.6969697 ,\n",
       "       25.71717172, 25.73737374, 25.75757576, 25.77777778, 25.7979798 ,\n",
       "       25.81818182, 25.83838384, 25.85858586, 25.87878788, 25.8989899 ,\n",
       "       25.91919192, 25.93939394, 25.95959596, 25.97979798, 26.        ])"
      ]
     },
     "execution_count": 78,
     "metadata": {},
     "output_type": "execute_result"
    }
   ],
   "source": [
    "#after rerun the for loop for alphas, the best alpha should be around 25.\n",
    "alphas = np.linspace(24, 26, 100)\n",
    "alphas"
   ]
  },
  {
   "cell_type": "code",
   "execution_count": 79,
   "id": "3d94f94f",
   "metadata": {
    "scrolled": true
   },
   "outputs": [
    {
     "data": {
      "text/html": [
       "<div>\n",
       "<style scoped>\n",
       "    .dataframe tbody tr th:only-of-type {\n",
       "        vertical-align: middle;\n",
       "    }\n",
       "\n",
       "    .dataframe tbody tr th {\n",
       "        vertical-align: top;\n",
       "    }\n",
       "\n",
       "    .dataframe thead th {\n",
       "        text-align: right;\n",
       "    }\n",
       "</style>\n",
       "<table border=\"1\" class=\"dataframe\">\n",
       "  <thead>\n",
       "    <tr style=\"text-align: right;\">\n",
       "      <th></th>\n",
       "      <th>Alpha</th>\n",
       "      <th>RMSE</th>\n",
       "      <th>R2</th>\n",
       "    </tr>\n",
       "  </thead>\n",
       "  <tbody>\n",
       "    <tr>\n",
       "      <th>0</th>\n",
       "      <td>24.000000</td>\n",
       "      <td>2663.684853</td>\n",
       "      <td>0.926952</td>\n",
       "    </tr>\n",
       "    <tr>\n",
       "      <th>1</th>\n",
       "      <td>24.020202</td>\n",
       "      <td>2663.661858</td>\n",
       "      <td>0.926953</td>\n",
       "    </tr>\n",
       "    <tr>\n",
       "      <th>2</th>\n",
       "      <td>24.040404</td>\n",
       "      <td>2663.638555</td>\n",
       "      <td>0.926955</td>\n",
       "    </tr>\n",
       "    <tr>\n",
       "      <th>3</th>\n",
       "      <td>24.060606</td>\n",
       "      <td>2663.616223</td>\n",
       "      <td>0.926956</td>\n",
       "    </tr>\n",
       "    <tr>\n",
       "      <th>4</th>\n",
       "      <td>24.080808</td>\n",
       "      <td>2663.593369</td>\n",
       "      <td>0.926957</td>\n",
       "    </tr>\n",
       "    <tr>\n",
       "      <th>5</th>\n",
       "      <td>24.101010</td>\n",
       "      <td>2663.571913</td>\n",
       "      <td>0.926958</td>\n",
       "    </tr>\n",
       "    <tr>\n",
       "      <th>6</th>\n",
       "      <td>24.121212</td>\n",
       "      <td>2663.549410</td>\n",
       "      <td>0.926959</td>\n",
       "    </tr>\n",
       "    <tr>\n",
       "      <th>7</th>\n",
       "      <td>24.141414</td>\n",
       "      <td>2663.529285</td>\n",
       "      <td>0.926961</td>\n",
       "    </tr>\n",
       "    <tr>\n",
       "      <th>8</th>\n",
       "      <td>24.161616</td>\n",
       "      <td>2663.508801</td>\n",
       "      <td>0.926962</td>\n",
       "    </tr>\n",
       "    <tr>\n",
       "      <th>9</th>\n",
       "      <td>24.181818</td>\n",
       "      <td>2663.490327</td>\n",
       "      <td>0.926963</td>\n",
       "    </tr>\n",
       "    <tr>\n",
       "      <th>10</th>\n",
       "      <td>24.202020</td>\n",
       "      <td>2663.472105</td>\n",
       "      <td>0.926964</td>\n",
       "    </tr>\n",
       "    <tr>\n",
       "      <th>11</th>\n",
       "      <td>24.222222</td>\n",
       "      <td>2663.455846</td>\n",
       "      <td>0.926965</td>\n",
       "    </tr>\n",
       "    <tr>\n",
       "      <th>12</th>\n",
       "      <td>24.242424</td>\n",
       "      <td>2663.433659</td>\n",
       "      <td>0.926966</td>\n",
       "    </tr>\n",
       "    <tr>\n",
       "      <th>13</th>\n",
       "      <td>24.262626</td>\n",
       "      <td>2663.390231</td>\n",
       "      <td>0.926968</td>\n",
       "    </tr>\n",
       "    <tr>\n",
       "      <th>14</th>\n",
       "      <td>24.282828</td>\n",
       "      <td>2663.352802</td>\n",
       "      <td>0.926970</td>\n",
       "    </tr>\n",
       "    <tr>\n",
       "      <th>15</th>\n",
       "      <td>24.303030</td>\n",
       "      <td>2663.314592</td>\n",
       "      <td>0.926972</td>\n",
       "    </tr>\n",
       "    <tr>\n",
       "      <th>16</th>\n",
       "      <td>24.323232</td>\n",
       "      <td>2663.277102</td>\n",
       "      <td>0.926974</td>\n",
       "    </tr>\n",
       "    <tr>\n",
       "      <th>17</th>\n",
       "      <td>24.343434</td>\n",
       "      <td>2663.241191</td>\n",
       "      <td>0.926976</td>\n",
       "    </tr>\n",
       "    <tr>\n",
       "      <th>18</th>\n",
       "      <td>24.363636</td>\n",
       "      <td>2663.204916</td>\n",
       "      <td>0.926978</td>\n",
       "    </tr>\n",
       "    <tr>\n",
       "      <th>19</th>\n",
       "      <td>24.383838</td>\n",
       "      <td>2663.171489</td>\n",
       "      <td>0.926980</td>\n",
       "    </tr>\n",
       "    <tr>\n",
       "      <th>20</th>\n",
       "      <td>24.404040</td>\n",
       "      <td>2663.138747</td>\n",
       "      <td>0.926982</td>\n",
       "    </tr>\n",
       "    <tr>\n",
       "      <th>21</th>\n",
       "      <td>24.424242</td>\n",
       "      <td>2663.108313</td>\n",
       "      <td>0.926984</td>\n",
       "    </tr>\n",
       "    <tr>\n",
       "      <th>22</th>\n",
       "      <td>24.444444</td>\n",
       "      <td>2663.078570</td>\n",
       "      <td>0.926985</td>\n",
       "    </tr>\n",
       "    <tr>\n",
       "      <th>23</th>\n",
       "      <td>24.464646</td>\n",
       "      <td>2663.048940</td>\n",
       "      <td>0.926987</td>\n",
       "    </tr>\n",
       "    <tr>\n",
       "      <th>24</th>\n",
       "      <td>24.484848</td>\n",
       "      <td>2663.020183</td>\n",
       "      <td>0.926988</td>\n",
       "    </tr>\n",
       "    <tr>\n",
       "      <th>25</th>\n",
       "      <td>24.505051</td>\n",
       "      <td>2662.993156</td>\n",
       "      <td>0.926990</td>\n",
       "    </tr>\n",
       "    <tr>\n",
       "      <th>26</th>\n",
       "      <td>24.525253</td>\n",
       "      <td>2662.958406</td>\n",
       "      <td>0.926992</td>\n",
       "    </tr>\n",
       "    <tr>\n",
       "      <th>27</th>\n",
       "      <td>24.545455</td>\n",
       "      <td>2662.926302</td>\n",
       "      <td>0.926994</td>\n",
       "    </tr>\n",
       "    <tr>\n",
       "      <th>28</th>\n",
       "      <td>24.565657</td>\n",
       "      <td>2662.904572</td>\n",
       "      <td>0.926995</td>\n",
       "    </tr>\n",
       "    <tr>\n",
       "      <th>29</th>\n",
       "      <td>24.585859</td>\n",
       "      <td>2662.890100</td>\n",
       "      <td>0.926996</td>\n",
       "    </tr>\n",
       "    <tr>\n",
       "      <th>30</th>\n",
       "      <td>24.606061</td>\n",
       "      <td>2662.881835</td>\n",
       "      <td>0.926996</td>\n",
       "    </tr>\n",
       "    <tr>\n",
       "      <th>31</th>\n",
       "      <td>24.626263</td>\n",
       "      <td>2662.877386</td>\n",
       "      <td>0.926996</td>\n",
       "    </tr>\n",
       "    <tr>\n",
       "      <th>32</th>\n",
       "      <td>24.646465</td>\n",
       "      <td>2662.875104</td>\n",
       "      <td>0.926996</td>\n",
       "    </tr>\n",
       "    <tr>\n",
       "      <th>33</th>\n",
       "      <td>24.666667</td>\n",
       "      <td>2662.874095</td>\n",
       "      <td>0.926996</td>\n",
       "    </tr>\n",
       "    <tr>\n",
       "      <th>34</th>\n",
       "      <td>24.686869</td>\n",
       "      <td>2662.876136</td>\n",
       "      <td>0.926996</td>\n",
       "    </tr>\n",
       "    <tr>\n",
       "      <th>35</th>\n",
       "      <td>24.707071</td>\n",
       "      <td>2662.878168</td>\n",
       "      <td>0.926996</td>\n",
       "    </tr>\n",
       "    <tr>\n",
       "      <th>36</th>\n",
       "      <td>24.727273</td>\n",
       "      <td>2662.881831</td>\n",
       "      <td>0.926996</td>\n",
       "    </tr>\n",
       "    <tr>\n",
       "      <th>37</th>\n",
       "      <td>24.747475</td>\n",
       "      <td>2662.885796</td>\n",
       "      <td>0.926996</td>\n",
       "    </tr>\n",
       "    <tr>\n",
       "      <th>38</th>\n",
       "      <td>24.767677</td>\n",
       "      <td>2662.889879</td>\n",
       "      <td>0.926996</td>\n",
       "    </tr>\n",
       "    <tr>\n",
       "      <th>39</th>\n",
       "      <td>24.787879</td>\n",
       "      <td>2662.895344</td>\n",
       "      <td>0.926995</td>\n",
       "    </tr>\n",
       "    <tr>\n",
       "      <th>40</th>\n",
       "      <td>24.808081</td>\n",
       "      <td>2662.905525</td>\n",
       "      <td>0.926995</td>\n",
       "    </tr>\n",
       "    <tr>\n",
       "      <th>41</th>\n",
       "      <td>24.828283</td>\n",
       "      <td>2662.919343</td>\n",
       "      <td>0.926994</td>\n",
       "    </tr>\n",
       "    <tr>\n",
       "      <th>42</th>\n",
       "      <td>24.848485</td>\n",
       "      <td>2662.926864</td>\n",
       "      <td>0.926994</td>\n",
       "    </tr>\n",
       "    <tr>\n",
       "      <th>43</th>\n",
       "      <td>24.868687</td>\n",
       "      <td>2662.931387</td>\n",
       "      <td>0.926993</td>\n",
       "    </tr>\n",
       "    <tr>\n",
       "      <th>44</th>\n",
       "      <td>24.888889</td>\n",
       "      <td>2662.935209</td>\n",
       "      <td>0.926993</td>\n",
       "    </tr>\n",
       "    <tr>\n",
       "      <th>45</th>\n",
       "      <td>24.909091</td>\n",
       "      <td>2662.938788</td>\n",
       "      <td>0.926993</td>\n",
       "    </tr>\n",
       "    <tr>\n",
       "      <th>46</th>\n",
       "      <td>24.929293</td>\n",
       "      <td>2662.943569</td>\n",
       "      <td>0.926993</td>\n",
       "    </tr>\n",
       "    <tr>\n",
       "      <th>47</th>\n",
       "      <td>24.949495</td>\n",
       "      <td>2662.946750</td>\n",
       "      <td>0.926992</td>\n",
       "    </tr>\n",
       "    <tr>\n",
       "      <th>48</th>\n",
       "      <td>24.969697</td>\n",
       "      <td>2662.951440</td>\n",
       "      <td>0.926992</td>\n",
       "    </tr>\n",
       "    <tr>\n",
       "      <th>49</th>\n",
       "      <td>24.989899</td>\n",
       "      <td>2662.956266</td>\n",
       "      <td>0.926992</td>\n",
       "    </tr>\n",
       "    <tr>\n",
       "      <th>50</th>\n",
       "      <td>25.010101</td>\n",
       "      <td>2662.960953</td>\n",
       "      <td>0.926992</td>\n",
       "    </tr>\n",
       "    <tr>\n",
       "      <th>51</th>\n",
       "      <td>25.030303</td>\n",
       "      <td>2662.964997</td>\n",
       "      <td>0.926991</td>\n",
       "    </tr>\n",
       "    <tr>\n",
       "      <th>52</th>\n",
       "      <td>25.050505</td>\n",
       "      <td>2662.962056</td>\n",
       "      <td>0.926992</td>\n",
       "    </tr>\n",
       "    <tr>\n",
       "      <th>53</th>\n",
       "      <td>25.070707</td>\n",
       "      <td>2662.957613</td>\n",
       "      <td>0.926992</td>\n",
       "    </tr>\n",
       "    <tr>\n",
       "      <th>54</th>\n",
       "      <td>25.090909</td>\n",
       "      <td>2662.953164</td>\n",
       "      <td>0.926992</td>\n",
       "    </tr>\n",
       "    <tr>\n",
       "      <th>55</th>\n",
       "      <td>25.111111</td>\n",
       "      <td>2662.968149</td>\n",
       "      <td>0.926991</td>\n",
       "    </tr>\n",
       "    <tr>\n",
       "      <th>56</th>\n",
       "      <td>25.131313</td>\n",
       "      <td>2662.986053</td>\n",
       "      <td>0.926990</td>\n",
       "    </tr>\n",
       "    <tr>\n",
       "      <th>57</th>\n",
       "      <td>25.151515</td>\n",
       "      <td>2663.016799</td>\n",
       "      <td>0.926989</td>\n",
       "    </tr>\n",
       "    <tr>\n",
       "      <th>58</th>\n",
       "      <td>25.171717</td>\n",
       "      <td>2663.044308</td>\n",
       "      <td>0.926987</td>\n",
       "    </tr>\n",
       "    <tr>\n",
       "      <th>59</th>\n",
       "      <td>25.191919</td>\n",
       "      <td>2663.053008</td>\n",
       "      <td>0.926987</td>\n",
       "    </tr>\n",
       "    <tr>\n",
       "      <th>60</th>\n",
       "      <td>25.212121</td>\n",
       "      <td>2663.061027</td>\n",
       "      <td>0.926986</td>\n",
       "    </tr>\n",
       "    <tr>\n",
       "      <th>61</th>\n",
       "      <td>25.232323</td>\n",
       "      <td>2663.073943</td>\n",
       "      <td>0.926986</td>\n",
       "    </tr>\n",
       "    <tr>\n",
       "      <th>62</th>\n",
       "      <td>25.252525</td>\n",
       "      <td>2663.085661</td>\n",
       "      <td>0.926985</td>\n",
       "    </tr>\n",
       "    <tr>\n",
       "      <th>63</th>\n",
       "      <td>25.272727</td>\n",
       "      <td>2663.093459</td>\n",
       "      <td>0.926984</td>\n",
       "    </tr>\n",
       "    <tr>\n",
       "      <th>64</th>\n",
       "      <td>25.292929</td>\n",
       "      <td>2663.103501</td>\n",
       "      <td>0.926984</td>\n",
       "    </tr>\n",
       "    <tr>\n",
       "      <th>65</th>\n",
       "      <td>25.313131</td>\n",
       "      <td>2663.112288</td>\n",
       "      <td>0.926983</td>\n",
       "    </tr>\n",
       "    <tr>\n",
       "      <th>66</th>\n",
       "      <td>25.333333</td>\n",
       "      <td>2663.122242</td>\n",
       "      <td>0.926983</td>\n",
       "    </tr>\n",
       "    <tr>\n",
       "      <th>67</th>\n",
       "      <td>25.353535</td>\n",
       "      <td>2663.131204</td>\n",
       "      <td>0.926982</td>\n",
       "    </tr>\n",
       "    <tr>\n",
       "      <th>68</th>\n",
       "      <td>25.373737</td>\n",
       "      <td>2663.140101</td>\n",
       "      <td>0.926982</td>\n",
       "    </tr>\n",
       "    <tr>\n",
       "      <th>69</th>\n",
       "      <td>25.393939</td>\n",
       "      <td>2663.148885</td>\n",
       "      <td>0.926981</td>\n",
       "    </tr>\n",
       "    <tr>\n",
       "      <th>70</th>\n",
       "      <td>25.414141</td>\n",
       "      <td>2663.158598</td>\n",
       "      <td>0.926981</td>\n",
       "    </tr>\n",
       "    <tr>\n",
       "      <th>71</th>\n",
       "      <td>25.434343</td>\n",
       "      <td>2663.169123</td>\n",
       "      <td>0.926980</td>\n",
       "    </tr>\n",
       "    <tr>\n",
       "      <th>72</th>\n",
       "      <td>25.454545</td>\n",
       "      <td>2663.179091</td>\n",
       "      <td>0.926980</td>\n",
       "    </tr>\n",
       "    <tr>\n",
       "      <th>73</th>\n",
       "      <td>25.474747</td>\n",
       "      <td>2663.189878</td>\n",
       "      <td>0.926979</td>\n",
       "    </tr>\n",
       "    <tr>\n",
       "      <th>74</th>\n",
       "      <td>25.494949</td>\n",
       "      <td>2663.201156</td>\n",
       "      <td>0.926979</td>\n",
       "    </tr>\n",
       "    <tr>\n",
       "      <th>75</th>\n",
       "      <td>25.515152</td>\n",
       "      <td>2663.213053</td>\n",
       "      <td>0.926978</td>\n",
       "    </tr>\n",
       "    <tr>\n",
       "      <th>76</th>\n",
       "      <td>25.535354</td>\n",
       "      <td>2663.224321</td>\n",
       "      <td>0.926977</td>\n",
       "    </tr>\n",
       "    <tr>\n",
       "      <th>77</th>\n",
       "      <td>25.555556</td>\n",
       "      <td>2663.238100</td>\n",
       "      <td>0.926977</td>\n",
       "    </tr>\n",
       "    <tr>\n",
       "      <th>78</th>\n",
       "      <td>25.575758</td>\n",
       "      <td>2663.251024</td>\n",
       "      <td>0.926976</td>\n",
       "    </tr>\n",
       "    <tr>\n",
       "      <th>79</th>\n",
       "      <td>25.595960</td>\n",
       "      <td>2663.265246</td>\n",
       "      <td>0.926975</td>\n",
       "    </tr>\n",
       "    <tr>\n",
       "      <th>80</th>\n",
       "      <td>25.616162</td>\n",
       "      <td>2663.280146</td>\n",
       "      <td>0.926974</td>\n",
       "    </tr>\n",
       "    <tr>\n",
       "      <th>81</th>\n",
       "      <td>25.636364</td>\n",
       "      <td>2663.296368</td>\n",
       "      <td>0.926973</td>\n",
       "    </tr>\n",
       "    <tr>\n",
       "      <th>82</th>\n",
       "      <td>25.656566</td>\n",
       "      <td>2663.312846</td>\n",
       "      <td>0.926972</td>\n",
       "    </tr>\n",
       "    <tr>\n",
       "      <th>83</th>\n",
       "      <td>25.676768</td>\n",
       "      <td>2663.329553</td>\n",
       "      <td>0.926972</td>\n",
       "    </tr>\n",
       "    <tr>\n",
       "      <th>84</th>\n",
       "      <td>25.696970</td>\n",
       "      <td>2663.347092</td>\n",
       "      <td>0.926971</td>\n",
       "    </tr>\n",
       "    <tr>\n",
       "      <th>85</th>\n",
       "      <td>25.717172</td>\n",
       "      <td>2663.363295</td>\n",
       "      <td>0.926970</td>\n",
       "    </tr>\n",
       "    <tr>\n",
       "      <th>86</th>\n",
       "      <td>25.737374</td>\n",
       "      <td>2663.374582</td>\n",
       "      <td>0.926969</td>\n",
       "    </tr>\n",
       "    <tr>\n",
       "      <th>87</th>\n",
       "      <td>25.757576</td>\n",
       "      <td>2663.385660</td>\n",
       "      <td>0.926968</td>\n",
       "    </tr>\n",
       "    <tr>\n",
       "      <th>88</th>\n",
       "      <td>25.777778</td>\n",
       "      <td>2663.397430</td>\n",
       "      <td>0.926968</td>\n",
       "    </tr>\n",
       "    <tr>\n",
       "      <th>89</th>\n",
       "      <td>25.797980</td>\n",
       "      <td>2663.408389</td>\n",
       "      <td>0.926967</td>\n",
       "    </tr>\n",
       "    <tr>\n",
       "      <th>90</th>\n",
       "      <td>25.818182</td>\n",
       "      <td>2663.421060</td>\n",
       "      <td>0.926966</td>\n",
       "    </tr>\n",
       "    <tr>\n",
       "      <th>91</th>\n",
       "      <td>25.838384</td>\n",
       "      <td>2663.433738</td>\n",
       "      <td>0.926966</td>\n",
       "    </tr>\n",
       "    <tr>\n",
       "      <th>92</th>\n",
       "      <td>25.858586</td>\n",
       "      <td>2663.446233</td>\n",
       "      <td>0.926965</td>\n",
       "    </tr>\n",
       "    <tr>\n",
       "      <th>93</th>\n",
       "      <td>25.878788</td>\n",
       "      <td>2663.459719</td>\n",
       "      <td>0.926964</td>\n",
       "    </tr>\n",
       "    <tr>\n",
       "      <th>94</th>\n",
       "      <td>25.898990</td>\n",
       "      <td>2663.472734</td>\n",
       "      <td>0.926964</td>\n",
       "    </tr>\n",
       "    <tr>\n",
       "      <th>95</th>\n",
       "      <td>25.919192</td>\n",
       "      <td>2663.486004</td>\n",
       "      <td>0.926963</td>\n",
       "    </tr>\n",
       "    <tr>\n",
       "      <th>96</th>\n",
       "      <td>25.939394</td>\n",
       "      <td>2663.499791</td>\n",
       "      <td>0.926962</td>\n",
       "    </tr>\n",
       "    <tr>\n",
       "      <th>97</th>\n",
       "      <td>25.959596</td>\n",
       "      <td>2663.512839</td>\n",
       "      <td>0.926961</td>\n",
       "    </tr>\n",
       "    <tr>\n",
       "      <th>98</th>\n",
       "      <td>25.979798</td>\n",
       "      <td>2663.522213</td>\n",
       "      <td>0.926961</td>\n",
       "    </tr>\n",
       "    <tr>\n",
       "      <th>99</th>\n",
       "      <td>26.000000</td>\n",
       "      <td>2663.532737</td>\n",
       "      <td>0.926960</td>\n",
       "    </tr>\n",
       "  </tbody>\n",
       "</table>\n",
       "</div>"
      ],
      "text/plain": [
       "        Alpha         RMSE        R2\n",
       "0   24.000000  2663.684853  0.926952\n",
       "1   24.020202  2663.661858  0.926953\n",
       "2   24.040404  2663.638555  0.926955\n",
       "3   24.060606  2663.616223  0.926956\n",
       "4   24.080808  2663.593369  0.926957\n",
       "5   24.101010  2663.571913  0.926958\n",
       "6   24.121212  2663.549410  0.926959\n",
       "7   24.141414  2663.529285  0.926961\n",
       "8   24.161616  2663.508801  0.926962\n",
       "9   24.181818  2663.490327  0.926963\n",
       "10  24.202020  2663.472105  0.926964\n",
       "11  24.222222  2663.455846  0.926965\n",
       "12  24.242424  2663.433659  0.926966\n",
       "13  24.262626  2663.390231  0.926968\n",
       "14  24.282828  2663.352802  0.926970\n",
       "15  24.303030  2663.314592  0.926972\n",
       "16  24.323232  2663.277102  0.926974\n",
       "17  24.343434  2663.241191  0.926976\n",
       "18  24.363636  2663.204916  0.926978\n",
       "19  24.383838  2663.171489  0.926980\n",
       "20  24.404040  2663.138747  0.926982\n",
       "21  24.424242  2663.108313  0.926984\n",
       "22  24.444444  2663.078570  0.926985\n",
       "23  24.464646  2663.048940  0.926987\n",
       "24  24.484848  2663.020183  0.926988\n",
       "25  24.505051  2662.993156  0.926990\n",
       "26  24.525253  2662.958406  0.926992\n",
       "27  24.545455  2662.926302  0.926994\n",
       "28  24.565657  2662.904572  0.926995\n",
       "29  24.585859  2662.890100  0.926996\n",
       "30  24.606061  2662.881835  0.926996\n",
       "31  24.626263  2662.877386  0.926996\n",
       "32  24.646465  2662.875104  0.926996\n",
       "33  24.666667  2662.874095  0.926996\n",
       "34  24.686869  2662.876136  0.926996\n",
       "35  24.707071  2662.878168  0.926996\n",
       "36  24.727273  2662.881831  0.926996\n",
       "37  24.747475  2662.885796  0.926996\n",
       "38  24.767677  2662.889879  0.926996\n",
       "39  24.787879  2662.895344  0.926995\n",
       "40  24.808081  2662.905525  0.926995\n",
       "41  24.828283  2662.919343  0.926994\n",
       "42  24.848485  2662.926864  0.926994\n",
       "43  24.868687  2662.931387  0.926993\n",
       "44  24.888889  2662.935209  0.926993\n",
       "45  24.909091  2662.938788  0.926993\n",
       "46  24.929293  2662.943569  0.926993\n",
       "47  24.949495  2662.946750  0.926992\n",
       "48  24.969697  2662.951440  0.926992\n",
       "49  24.989899  2662.956266  0.926992\n",
       "50  25.010101  2662.960953  0.926992\n",
       "51  25.030303  2662.964997  0.926991\n",
       "52  25.050505  2662.962056  0.926992\n",
       "53  25.070707  2662.957613  0.926992\n",
       "54  25.090909  2662.953164  0.926992\n",
       "55  25.111111  2662.968149  0.926991\n",
       "56  25.131313  2662.986053  0.926990\n",
       "57  25.151515  2663.016799  0.926989\n",
       "58  25.171717  2663.044308  0.926987\n",
       "59  25.191919  2663.053008  0.926987\n",
       "60  25.212121  2663.061027  0.926986\n",
       "61  25.232323  2663.073943  0.926986\n",
       "62  25.252525  2663.085661  0.926985\n",
       "63  25.272727  2663.093459  0.926984\n",
       "64  25.292929  2663.103501  0.926984\n",
       "65  25.313131  2663.112288  0.926983\n",
       "66  25.333333  2663.122242  0.926983\n",
       "67  25.353535  2663.131204  0.926982\n",
       "68  25.373737  2663.140101  0.926982\n",
       "69  25.393939  2663.148885  0.926981\n",
       "70  25.414141  2663.158598  0.926981\n",
       "71  25.434343  2663.169123  0.926980\n",
       "72  25.454545  2663.179091  0.926980\n",
       "73  25.474747  2663.189878  0.926979\n",
       "74  25.494949  2663.201156  0.926979\n",
       "75  25.515152  2663.213053  0.926978\n",
       "76  25.535354  2663.224321  0.926977\n",
       "77  25.555556  2663.238100  0.926977\n",
       "78  25.575758  2663.251024  0.926976\n",
       "79  25.595960  2663.265246  0.926975\n",
       "80  25.616162  2663.280146  0.926974\n",
       "81  25.636364  2663.296368  0.926973\n",
       "82  25.656566  2663.312846  0.926972\n",
       "83  25.676768  2663.329553  0.926972\n",
       "84  25.696970  2663.347092  0.926971\n",
       "85  25.717172  2663.363295  0.926970\n",
       "86  25.737374  2663.374582  0.926969\n",
       "87  25.757576  2663.385660  0.926968\n",
       "88  25.777778  2663.397430  0.926968\n",
       "89  25.797980  2663.408389  0.926967\n",
       "90  25.818182  2663.421060  0.926966\n",
       "91  25.838384  2663.433738  0.926966\n",
       "92  25.858586  2663.446233  0.926965\n",
       "93  25.878788  2663.459719  0.926964\n",
       "94  25.898990  2663.472734  0.926964\n",
       "95  25.919192  2663.486004  0.926963\n",
       "96  25.939394  2663.499791  0.926962\n",
       "97  25.959596  2663.512839  0.926961\n",
       "98  25.979798  2663.522213  0.926961\n",
       "99  26.000000  2663.532737  0.926960"
      ]
     },
     "metadata": {},
     "output_type": "display_data"
    }
   ],
   "source": [
    "from sklearn.linear_model import Lasso\n",
    "\n",
    "rmse_list = []\n",
    "r2_list = []\n",
    "\n",
    "for a in alphas:\n",
    "    #transform the polynomial features\n",
    "    poly = PolynomialFeatures(degree = 5)\n",
    "    x_poly = poly.fit_transform(x)\n",
    "    \n",
    "    #split to train and test data\n",
    "    x_train, x_test, y_train, y_test = train_test_split(x_poly, y, test_size=0.1, random_state=42)\n",
    "    \n",
    "    #fit in a linear regression\n",
    "    poly.fit(x_train, y_train)\n",
    "    \n",
    "    las = Lasso(alpha = a)\n",
    "    las.fit(x_train, y_train)\n",
    "    \n",
    "    #prediction\n",
    "    predictions_p_l = las.predict(x_test)\n",
    "    \n",
    "    \n",
    "    r2_list.append(las.score(x_test,y_test))\n",
    "    rmse = mean_squared_error(y_test, predictions_p_l)**0.5;\n",
    "    rmse_list.append(rmse)\n",
    "    \n",
    "lasso_result = np.vstack((alphas, rmse_list, r2_list)).T\n",
    "lasso_df = pd.DataFrame(lasso_result, columns=['Alpha', 'RMSE', 'R2'])\n",
    "pd.set_option('display.max_rows', None)\n",
    "display(lasso_df)\n",
    "pd.reset_option('all')\n"
   ]
  },
  {
   "cell_type": "markdown",
   "id": "817cc5ff",
   "metadata": {},
   "source": [
    "The best alpha is at 24.666667"
   ]
  },
  {
   "cell_type": "code",
   "execution_count": 80,
   "id": "85ad0724",
   "metadata": {},
   "outputs": [
    {
     "name": "stdout",
     "output_type": "stream",
     "text": [
      "Lasso Model with polynomial degree 5\n",
      "R^2 in Training Set: 0.9022902614734005\n",
      "R^2 in Testing Set: 0.9269964751633586\n",
      "RMSE: 2662.8740952532785\n"
     ]
    }
   ],
   "source": [
    "#rerun with the best parameters\n",
    "y = df['price']\n",
    "x = df[label_all]\n",
    "\n",
    "\n",
    "print(\"Lasso Model with polynomial degree 5\")\n",
    "    \n",
    "#transform the polynomial features\n",
    "poly = PolynomialFeatures(degree = 5)\n",
    "x_poly = poly.fit_transform(x)\n",
    "    \n",
    "#split to train and test data\n",
    "x_train, x_test, y_train, y_test = train_test_split(x_poly, y, test_size=0.1, random_state=42)\n",
    "    \n",
    "#fit in a linear regression\n",
    "poly.fit(x_train, y_train)\n",
    "las = Lasso(alpha = 24.666667)\n",
    "las.fit(x_train, y_train)\n",
    "    \n",
    "#prediction\n",
    "predictions_p_l = las.predict(x_test)\n",
    "    \n",
    "#Evaluation\n",
    "# R-squared\n",
    "r2_train = las.score(x_train, y_train)\n",
    "r2_test = las.score(x_test, y_test)\n",
    "# RMSE\n",
    "mse = mean_squared_error(y_test, predictions_p_l)\n",
    "    \n",
    "print(\"R^2 in Training Set:\", r2_train)\n",
    "print(\"R^2 in Testing Set:\", r2_test)\n",
    "print('RMSE:', mse**0.5)    "
   ]
  },
  {
   "cell_type": "markdown",
   "id": "3a35d2e2",
   "metadata": {},
   "source": [
    "**Conclusion: <br>**\n",
    "The best model is the lasso polynomial regression model <br>\n",
    "Polynomial degree = 5 <br>\n",
    "All the predictors are used. <br>\n",
    "Alpha applied = 24.666667<br>\n",
    "\n",
    "**Result<br>**\n",
    "R^2 in Testing Set: 0.9269964751633586 <br>\n",
    "RMSE : 2662.8740952532785"
   ]
  },
  {
   "cell_type": "markdown",
   "id": "92a5c500",
   "metadata": {},
   "source": [
    "# Member Contribution\n",
    "\n",
    "|Student ID|Name| Tom Tsang | Feng Leung | King Lok Wan | Karli Li |\n",
    "|--------------|------------|--------------|--------------|--------------||\n",
    "|300363109|  Tom Tsang   |-----|  4  |  4  |  4  |\n",
    "|300366142|  Feng Leung  |  4  |-----|  4  |  4  |\n",
    "|300360889| King Lok Wan |  4  |  4  |-----|  4  |\n",
    "|300350713|   Karli Li   |  4  |  4  |  4  |-----|"
   ]
  }
 ],
 "metadata": {
  "kernelspec": {
   "display_name": "Python 3 (ipykernel)",
   "language": "python",
   "name": "python3"
  },
  "language_info": {
   "codemirror_mode": {
    "name": "ipython",
    "version": 3
   },
   "file_extension": ".py",
   "mimetype": "text/x-python",
   "name": "python",
   "nbconvert_exporter": "python",
   "pygments_lexer": "ipython3",
   "version": "3.9.13"
  }
 },
 "nbformat": 4,
 "nbformat_minor": 5
}
